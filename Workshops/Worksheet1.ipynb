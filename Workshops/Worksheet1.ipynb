{
  "nbformat": 4,
  "nbformat_minor": 0,
  "metadata": {
    "colab": {
      "provenance": []
    },
    "kernelspec": {
      "name": "python3",
      "display_name": "Python 3"
    },
    "language_info": {
      "name": "python"
    }
  },
  "cells": [
    {
      "cell_type": "markdown",
      "source": [
        "**Student Name: Nayanika Dubey <br>\n",
        "Student ID: 2408008**"
      ],
      "metadata": {
        "id": "kG7X58BfurJP"
      }
    },
    {
      "cell_type": "markdown",
      "source": [
        "**Importing Numpy and Array Type.**"
      ],
      "metadata": {
        "id": "aYD-LIwNtwxQ"
      }
    },
    {
      "cell_type": "code",
      "source": [
        "import numpy as np\n",
        "# Create and display zero, one, and n-dimensional arrays\n",
        "zero_dim_array = np.array(5)\n",
        "one_dim_array = np.array([1, 2, 3])\n",
        "n_dim_array = np.array([[1, 2], [3, 4]])\n",
        "for arr in [zero_dim_array, one_dim_array, n_dim_array]:\n",
        "  print(f\"Array:\\n{arr}\\nDimension: {arr.ndim}\\nData type: {arr.dtype}\\n\")"
      ],
      "metadata": {
        "colab": {
          "base_uri": "https://localhost:8080/"
        },
        "id": "oOyLuY8ruaM-",
        "outputId": "f2915ff3-8c73-4394-bae3-86fbe70021ef"
      },
      "execution_count": 38,
      "outputs": [
        {
          "output_type": "stream",
          "name": "stdout",
          "text": [
            "Array:\n",
            "5\n",
            "Dimension: 0\n",
            "Data type: int64\n",
            "\n",
            "Array:\n",
            "[1 2 3]\n",
            "Dimension: 1\n",
            "Data type: int64\n",
            "\n",
            "Array:\n",
            "[[1 2]\n",
            " [3 4]]\n",
            "Dimension: 2\n",
            "Data type: int64\n",
            "\n"
          ]
        }
      ]
    },
    {
      "cell_type": "markdown",
      "source": [
        "**Shape of an Array.**"
      ],
      "metadata": {
        "id": "7iojtIFBuS_v"
      }
    },
    {
      "cell_type": "code",
      "source": [
        "# Create arrays of different dimensions\n",
        "array_0d = np.array(5)\n",
        "array_1d = np.array([1, 2, 3, 4, 5])\n",
        "array_2d = np.array([[1, 2, 3], [4, 5, 6]])\n",
        "array_3d = np.array([[[1, 2], [3, 4]], [[5, 6], [7, 8]]])\n",
        "# Print arrays with shapes\n",
        "for i, arr in enumerate([array_0d, array_1d, array_2d, array_3d]):\n",
        "  print(f\"{i}D Array:\\n{arr}\\nShape: {arr.shape}\\n\")"
      ],
      "metadata": {
        "colab": {
          "base_uri": "https://localhost:8080/"
        },
        "id": "947roFdjulGz",
        "outputId": "fca2e652-3d1a-45cd-e365-792da813a51d"
      },
      "execution_count": 39,
      "outputs": [
        {
          "output_type": "stream",
          "name": "stdout",
          "text": [
            "0D Array:\n",
            "5\n",
            "Shape: ()\n",
            "\n",
            "1D Array:\n",
            "[1 2 3 4 5]\n",
            "Shape: (5,)\n",
            "\n",
            "2D Array:\n",
            "[[1 2 3]\n",
            " [4 5 6]]\n",
            "Shape: (2, 3)\n",
            "\n",
            "3D Array:\n",
            "[[[1 2]\n",
            "  [3 4]]\n",
            "\n",
            " [[5 6]\n",
            "  [7 8]]]\n",
            "Shape: (2, 2, 2)\n",
            "\n"
          ]
        }
      ]
    },
    {
      "cell_type": "markdown",
      "source": [
        "**Reshaping an Array.**"
      ],
      "metadata": {
        "id": "JG-CkFSeuTCo"
      }
    },
    {
      "cell_type": "code",
      "source": [
        "array = np.array([[1, 2, 3], [4, 5, 6]]) # Shape (2, 3)\n",
        "reshaped_array = array.reshape(3, 2) # Reshape to (3, 2), keeping 6 elements\n",
        "print(\"Original Shape:\", array.shape, \"\\nReshaped Shape:\", reshaped_array.shape)"
      ],
      "metadata": {
        "colab": {
          "base_uri": "https://localhost:8080/"
        },
        "id": "LHpysg9Bu_52",
        "outputId": "34fa5fae-c644-4957-b2be-38cb044a4088"
      },
      "execution_count": 40,
      "outputs": [
        {
          "output_type": "stream",
          "name": "stdout",
          "text": [
            "Original Shape: (2, 3) \n",
            "Reshaped Shape: (3, 2)\n"
          ]
        }
      ]
    },
    {
      "cell_type": "markdown",
      "source": [
        "**Arrays with evenly Spaced values - arange.**"
      ],
      "metadata": {
        "id": "RTeTisxPuTFc"
      }
    },
    {
      "cell_type": "code",
      "source": [
        "a = np.arange(1, 10)\n",
        "print(a)\n",
        "x = range(1, 10)\n",
        "print(x) # x is an iterator\n",
        "print(list(x))\n",
        "# further arange examples:\n",
        "x = np.arange(10.4)\n",
        "print(x)\n",
        "x = np.arange(0.5, 10.4, 0.8)\n",
        "print(x)"
      ],
      "metadata": {
        "colab": {
          "base_uri": "https://localhost:8080/"
        },
        "id": "LgoTY4YPvHn5",
        "outputId": "ce0cfd15-9e94-4f07-c78c-c7f4e5d18a45"
      },
      "execution_count": 41,
      "outputs": [
        {
          "output_type": "stream",
          "name": "stdout",
          "text": [
            "[1 2 3 4 5 6 7 8 9]\n",
            "range(1, 10)\n",
            "[1, 2, 3, 4, 5, 6, 7, 8, 9]\n",
            "[ 0.  1.  2.  3.  4.  5.  6.  7.  8.  9. 10.]\n",
            "[ 0.5  1.3  2.1  2.9  3.7  4.5  5.3  6.1  6.9  7.7  8.5  9.3 10.1]\n"
          ]
        }
      ]
    },
    {
      "cell_type": "markdown",
      "source": [
        "**Arrays with evenly Spaced values - linspace.**"
      ],
      "metadata": {
        "id": "4f3iCqp-uTIk"
      }
    },
    {
      "cell_type": "code",
      "source": [
        "# 50 values between 1 and 10:\n",
        "print(np.linspace(1, 10))\n",
        "# 7 values between 1 and 10:\n",
        "print(np.linspace(1, 10, 7))\n",
        "# excluding the endpoint:\n",
        "print(np.linspace(1, 10, 7, endpoint=False))"
      ],
      "metadata": {
        "colab": {
          "base_uri": "https://localhost:8080/"
        },
        "id": "-lNP2gARvGpx",
        "outputId": "042d21c7-423a-4236-cda5-106ed2904aa6"
      },
      "execution_count": 42,
      "outputs": [
        {
          "output_type": "stream",
          "name": "stdout",
          "text": [
            "[ 1.          1.18367347  1.36734694  1.55102041  1.73469388  1.91836735\n",
            "  2.10204082  2.28571429  2.46938776  2.65306122  2.83673469  3.02040816\n",
            "  3.20408163  3.3877551   3.57142857  3.75510204  3.93877551  4.12244898\n",
            "  4.30612245  4.48979592  4.67346939  4.85714286  5.04081633  5.2244898\n",
            "  5.40816327  5.59183673  5.7755102   5.95918367  6.14285714  6.32653061\n",
            "  6.51020408  6.69387755  6.87755102  7.06122449  7.24489796  7.42857143\n",
            "  7.6122449   7.79591837  7.97959184  8.16326531  8.34693878  8.53061224\n",
            "  8.71428571  8.89795918  9.08163265  9.26530612  9.44897959  9.63265306\n",
            "  9.81632653 10.        ]\n",
            "[ 1.   2.5  4.   5.5  7.   8.5 10. ]\n",
            "[1.         2.28571429 3.57142857 4.85714286 6.14285714 7.42857143\n",
            " 8.71428571]\n"
          ]
        }
      ]
    },
    {
      "cell_type": "markdown",
      "source": [
        "**Initializing an Array.**"
      ],
      "metadata": {
        "id": "I9eBxw1HuTL7"
      }
    },
    {
      "cell_type": "code",
      "source": [
        "# Create arrays of specified shapes\n",
        "ones_array = np.ones((2, 3)) # Shape: (2, 3)\n",
        "zeros_array = np.zeros((3, 2)) # Shape: (3, 2)\n",
        "empty_array = np.empty((2, 2)) # Shape: (2, 2)\n",
        "identity_matrix = np.eye(3) # Shape: (3, 3)\n",
        "print(ones_array, zeros_array, empty_array, identity_matrix, sep='\\n\\n')"
      ],
      "metadata": {
        "colab": {
          "base_uri": "https://localhost:8080/"
        },
        "id": "k0YMjZqRvWBG",
        "outputId": "0d73e0cb-9784-4bfa-ef7a-4f7c590ffdf4"
      },
      "execution_count": 43,
      "outputs": [
        {
          "output_type": "stream",
          "name": "stdout",
          "text": [
            "[[1. 1. 1.]\n",
            " [1. 1. 1.]]\n",
            "\n",
            "[[0. 0.]\n",
            " [0. 0.]\n",
            " [0. 0.]]\n",
            "\n",
            "[[4.9e-324 9.9e-324]\n",
            " [1.5e-323 2.5e-323]]\n",
            "\n",
            "[[1. 0. 0.]\n",
            " [0. 1. 0.]\n",
            " [0. 0. 1.]]\n"
          ]
        }
      ]
    },
    {
      "cell_type": "markdown",
      "source": [
        "**Converting list to array using np.array.**"
      ],
      "metadata": {
        "id": "np-FGRiJvXBR"
      }
    },
    {
      "cell_type": "code",
      "source": [
        "array_from_list = np.array([1, 2, 3]) # [1 2 3]\n",
        "array_from_tuple = np.array((4, 5, 6)) # [4 5 6]\n",
        "array_from_nested_list = np.array([[1, 2, 3], [4, 5, 6]]) # [[1 2 3] [4 5 6]]\n",
        "print(array_from_list, array_from_tuple, array_from_nested_list, sep='\\n')"
      ],
      "metadata": {
        "colab": {
          "base_uri": "https://localhost:8080/"
        },
        "id": "N0ZRLDHqvXOB",
        "outputId": "5d8e35d3-062b-4179-f671-4936e6e2757d"
      },
      "execution_count": 44,
      "outputs": [
        {
          "output_type": "stream",
          "name": "stdout",
          "text": [
            "[1 2 3]\n",
            "[4 5 6]\n",
            "[[1 2 3]\n",
            " [4 5 6]]\n"
          ]
        }
      ]
    },
    {
      "cell_type": "markdown",
      "source": [
        "**From shape of an existing array.**"
      ],
      "metadata": {
        "id": "aZRKDCkjvXaR"
      }
    },
    {
      "cell_type": "code",
      "source": [
        "# Existing Array of Shape:(2,3)\n",
        "arr = np.array([[1, 2, 3], [4, 5, 6]])\n",
        "# Creating Array with Shape of existing array:\n",
        "zeros, ones, empty = np.zeros(arr.shape), np.ones(arr.shape), np.empty(arr.shape) # Shape: (2,3)\n",
        "print(arr, zeros, ones, empty, sep='\\n')"
      ],
      "metadata": {
        "colab": {
          "base_uri": "https://localhost:8080/"
        },
        "id": "5oaHofd9vXnx",
        "outputId": "0a631f71-c71d-476f-8f2e-bb9d5c5cfb24"
      },
      "execution_count": 45,
      "outputs": [
        {
          "output_type": "stream",
          "name": "stdout",
          "text": [
            "[[1 2 3]\n",
            " [4 5 6]]\n",
            "[[0. 0. 0.]\n",
            " [0. 0. 0.]]\n",
            "[[1. 1. 1.]\n",
            " [1. 1. 1.]]\n",
            "[[4.94620201e-310 0.00000000e+000 1.18575755e-322]\n",
            " [3.95252517e-323 1.18575755e-322 3.95252517e-323]]\n"
          ]
        }
      ]
    },
    {
      "cell_type": "markdown",
      "source": [
        "**Manipulatiing existing array.**"
      ],
      "metadata": {
        "id": "6DElVKEwvXzL"
      }
    },
    {
      "cell_type": "code",
      "source": [
        "array = np.array([1, 2, 3])\n",
        "# Multiplies each element by 2, result: [2, 4, 6]\n",
        "new_array = array * 2\n",
        "# Creates a new array with the same elements\n",
        "copied_array = np.copy(array)\n",
        "# Slices elements from index 1 to 3, result:[2]\n",
        "sliced_array = array[1:2]"
      ],
      "metadata": {
        "id": "IFJM3tJUvX-1"
      },
      "execution_count": 46,
      "outputs": []
    },
    {
      "cell_type": "markdown",
      "source": [
        "**With Concatenating Operation.**"
      ],
      "metadata": {
        "id": "5FcG2RuZvYJ0"
      }
    },
    {
      "cell_type": "code",
      "source": [
        "# Arrays\n",
        "arr1d = np.array([0, 1, 2, 3, 4, 5])\n",
        "arr2d = np.array([[0, 1, 2], [3, 4, 5], [6, 7, 8]])\n",
        "arr3d = np.array([[[0, 1], [2, 3]], [[4, 5], [6, 7]], [[8, 9], [10, 11]]])\n",
        "# Slicing examples\n",
        "print(\"Basic:\", arr1d[1:4], arr2d[1:3, 0:2], arr3d[1:2, 0:2, 1:2])\n",
        "# Output Basic: arr1d:[1 2 3] arr2d:[[3 4] [6 7]] arr3d:[[[5] [7]]]\n",
        "print(\"Step:\", arr1d[1:5:2], arr2d[::2, 1::2], arr3d[::2, ::2, 1::2])\n",
        "# Output: Step: [1 3] [[1] [7]] [[[1] [9]]]"
      ],
      "metadata": {
        "colab": {
          "base_uri": "https://localhost:8080/"
        },
        "id": "wdhOyp4OvYVe",
        "outputId": "5ccddaef-3291-409d-b4c6-62a6f03d6b4a"
      },
      "execution_count": 47,
      "outputs": [
        {
          "output_type": "stream",
          "name": "stdout",
          "text": [
            "Basic: [1 2 3] [[3 4]\n",
            " [6 7]] [[[5]\n",
            "  [7]]]\n",
            "Step: [1 3] [[1]\n",
            " [7]] [[[1]]\n",
            "\n",
            " [[9]]]\n"
          ]
        }
      ]
    },
    {
      "cell_type": "markdown",
      "source": [
        "**Introduction to ”ufuncs”.**"
      ],
      "metadata": {
        "id": "3bYS8CfjwfcU"
      }
    },
    {
      "cell_type": "code",
      "source": [
        "arr1 = np.array([1, 2, 3])\n",
        "arr2 = np.array([4, 5, 6])\n",
        "print(\"Add:\", np.add(arr1, arr2)) # Output Add: [5 7 9]\n",
        "print(\"Subtract:\", np.subtract(arr1, arr2))\n",
        "# Output Subtract: [-3 -3 -3]\n",
        "print(\"Divide:\", np.divide(arr1, arr2))\n",
        "# Output Divide: [0.25 0.4 0.5 ]\n",
        "print(\"Multiply:\", np.multiply(arr1, arr2))\n",
        "# Output Multiply: [ 4 10 18]\n",
        "print(\"Power:\", np.power(arr1, arr2))\n",
        "# Output Power: [ 1 32 729]\n",
        "print(\"Exp:\", np.exp(arr1))\n",
        "# Output Exp: [ 2.71828183 7.3890561 20.08553692]"
      ],
      "metadata": {
        "colab": {
          "base_uri": "https://localhost:8080/"
        },
        "id": "AD1JlRidwC17",
        "outputId": "3477b68d-8b89-4915-ec43-cf420e5f405e"
      },
      "execution_count": 48,
      "outputs": [
        {
          "output_type": "stream",
          "name": "stdout",
          "text": [
            "Add: [5 7 9]\n",
            "Subtract: [-3 -3 -3]\n",
            "Divide: [0.25 0.4  0.5 ]\n",
            "Multiply: [ 4 10 18]\n",
            "Power: [  1  32 729]\n",
            "Exp: [ 2.71828183  7.3890561  20.08553692]\n"
          ]
        }
      ]
    },
    {
      "cell_type": "markdown",
      "source": [
        "**Using 'np.dot'**"
      ],
      "metadata": {
        "id": "bvX7hOiYwm3z"
      }
    },
    {
      "cell_type": "code",
      "source": [
        "# Define two matrices\n",
        "A = np.array([[1, 2, 3], [4, 5, 6]])\n",
        "B = np.array([[7, 8], [9, 10], [11, 12]])\n",
        "# Matrix multiplication using np.dot\n",
        "result_dot = np.dot(A, B)\n",
        "print(\"Result with np.dot:\\n\", result_dot) # Output shape: (2, 2)"
      ],
      "metadata": {
        "colab": {
          "base_uri": "https://localhost:8080/"
        },
        "id": "gdN96YeSwkUN",
        "outputId": "b4520f78-a004-4590-d449-cf265ff752d0"
      },
      "execution_count": 49,
      "outputs": [
        {
          "output_type": "stream",
          "name": "stdout",
          "text": [
            "Result with np.dot:\n",
            " [[ 58  64]\n",
            " [139 154]]\n"
          ]
        }
      ]
    },
    {
      "cell_type": "markdown",
      "source": [
        "**Using \"np.matmul”**"
      ],
      "metadata": {
        "id": "66z6H-Tgwv-R"
      }
    },
    {
      "cell_type": "code",
      "source": [
        "# Define two matrices\n",
        "A = np.array([[1, 2, 3], [4, 5, 6]])\n",
        "B = np.array([[7, 8], [9, 10], [11, 12]])\n",
        "# Matrix multiplication using @ operator\n",
        "result_at = A @ B\n",
        "print(\"Result with @ operator:\\n\", result_at) # Output shape: (2, 2)\n",
        "# Matrix multiplication using np.matmul\n",
        "result_matmul = np.matmul(A, B)\n",
        "print(\"Result with np.matmul:\\n\", result_matmul) # Output shape: (2, 2)"
      ],
      "metadata": {
        "colab": {
          "base_uri": "https://localhost:8080/"
        },
        "id": "inpKIwWUwtrm",
        "outputId": "19021fec-5739-4a4d-be74-0f8e61679706"
      },
      "execution_count": 50,
      "outputs": [
        {
          "output_type": "stream",
          "name": "stdout",
          "text": [
            "Result with @ operator:\n",
            " [[ 58  64]\n",
            " [139 154]]\n",
            "Result with np.matmul:\n",
            " [[ 58  64]\n",
            " [139 154]]\n"
          ]
        }
      ]
    },
    {
      "cell_type": "markdown",
      "source": [
        "**Common linear algebra operation with np.linalg.**"
      ],
      "metadata": {
        "id": "SfUVlMtww99A"
      }
    },
    {
      "cell_type": "code",
      "source": [
        "A = np.array([[1, 2], [3, 4]])\n",
        "B = np.array([5, 6])\n",
        "print(\"Inverse:\\n\", np.linalg.inv(A))\n",
        "# Output: Inverse: [[-2. 1. ], [ 1.5 -0.5]]\n",
        "print(\"Determinant:\", np.linalg.det(A))\n",
        "# Output: Determinant: -2.0\n",
        "print(\"Frobenius Norm:\", np.linalg.norm(A, 'fro'))\n",
        "# Output: Frobenius Norm: 5.4772\n",
        "print(\"2-Norm (Euclidean):\", np.linalg.norm(A))\n",
        "# Outptut: 2-Norm(Euclidean): 5.4772\n",
        "print(\"Solution x:\", np.linalg.solve(A, B))\n",
        "#Output: Solution x: [-4. 4.5]"
      ],
      "metadata": {
        "colab": {
          "base_uri": "https://localhost:8080/"
        },
        "id": "ip8r07Wew8Ur",
        "outputId": "483cd81f-6c58-4c9c-ad11-499cb3115d2f"
      },
      "execution_count": 51,
      "outputs": [
        {
          "output_type": "stream",
          "name": "stdout",
          "text": [
            "Inverse:\n",
            " [[-2.   1. ]\n",
            " [ 1.5 -0.5]]\n",
            "Determinant: -2.0000000000000004\n",
            "Frobenius Norm: 5.477225575051661\n",
            "2-Norm (Euclidean): 5.477225575051661\n",
            "Solution x: [-4.   4.5]\n"
          ]
        }
      ]
    },
    {
      "cell_type": "markdown",
      "source": [
        "**Exercise Questions:**"
      ],
      "metadata": {
        "id": "917auL8i4DqD"
      }
    },
    {
      "cell_type": "markdown",
      "source": [
        "**Section 1:**"
      ],
      "metadata": {
        "id": "FdzlKsmN4cph"
      }
    },
    {
      "cell_type": "markdown",
      "source": [
        "1. Initialize an empty array with size 2X2.\n",
        "\n",
        "\n"
      ],
      "metadata": {
        "id": "6M7Q12nM4HBG"
      }
    },
    {
      "cell_type": "code",
      "source": [
        "empty_array = np.empty((2, 2))\n",
        "print(empty_array)"
      ],
      "metadata": {
        "colab": {
          "base_uri": "https://localhost:8080/"
        },
        "id": "daqhnzn45oU3",
        "outputId": "064ae548-6866-410b-c1ad-75029d1b36fd"
      },
      "execution_count": 52,
      "outputs": [
        {
          "output_type": "stream",
          "name": "stdout",
          "text": [
            "[[1. 2.]\n",
            " [3. 4.]]\n"
          ]
        }
      ]
    },
    {
      "cell_type": "markdown",
      "source": [
        "2. Initialize an all one array with size 4X2.\n",
        "\n"
      ],
      "metadata": {
        "id": "bjqsg4JV4HMN"
      }
    },
    {
      "cell_type": "code",
      "source": [
        "ones_array = np.ones((4, 2))\n",
        "print(ones_array)\n"
      ],
      "metadata": {
        "colab": {
          "base_uri": "https://localhost:8080/"
        },
        "id": "NCuS65nZ5o52",
        "outputId": "541b0d99-1a27-4233-b27d-2f78261a7360"
      },
      "execution_count": 53,
      "outputs": [
        {
          "output_type": "stream",
          "name": "stdout",
          "text": [
            "[[1. 1.]\n",
            " [1. 1.]\n",
            " [1. 1.]\n",
            " [1. 1.]]\n"
          ]
        }
      ]
    },
    {
      "cell_type": "markdown",
      "source": [
        "3. Return a new array of given shape and type, filled with fill value.{Hint: np.full}\n"
      ],
      "metadata": {
        "id": "8iDZw-nU4HPd"
      }
    },
    {
      "cell_type": "code",
      "source": [
        "full_array = np.full((3, 3), 7)\n",
        "print(full_array)\n"
      ],
      "metadata": {
        "colab": {
          "base_uri": "https://localhost:8080/"
        },
        "id": "so5Iei3X5pUJ",
        "outputId": "fc07ad1d-3d85-4985-e4b1-5a0310fa2153"
      },
      "execution_count": 54,
      "outputs": [
        {
          "output_type": "stream",
          "name": "stdout",
          "text": [
            "[[7 7 7]\n",
            " [7 7 7]\n",
            " [7 7 7]]\n"
          ]
        }
      ]
    },
    {
      "cell_type": "markdown",
      "source": [
        "4. Return a new array of zeros with same shape and type as a given array.{Hint: np.zeros like}\n"
      ],
      "metadata": {
        "id": "z25hZLAM4HSe"
      }
    },
    {
      "cell_type": "code",
      "source": [
        "arr = np.array([[1, 2], [3, 4]])\n",
        "# Creating a zeros array with the same shape\n",
        "zeros_like_array = np.zeros_like(arr)\n",
        "print(zeros_like_array)"
      ],
      "metadata": {
        "colab": {
          "base_uri": "https://localhost:8080/"
        },
        "id": "W7E-kZW_5qDA",
        "outputId": "e155a2ca-45e9-416e-d362-5ab660cab390"
      },
      "execution_count": 55,
      "outputs": [
        {
          "output_type": "stream",
          "name": "stdout",
          "text": [
            "[[0 0]\n",
            " [0 0]]\n"
          ]
        }
      ]
    },
    {
      "cell_type": "markdown",
      "source": [
        "5. Return a new array of ones with same shape and type as a given array.{Hint: np.ones like}\n"
      ],
      "metadata": {
        "id": "F7F2FRAu4HVX"
      }
    },
    {
      "cell_type": "code",
      "source": [
        "arr = np.array([[1, 2], [3, 4]])\n",
        "# Creating a zeros array with the same shape\n",
        "zeros_like_array = np.zeros_like(arr)\n",
        "print(zeros_like_array)\n"
      ],
      "metadata": {
        "colab": {
          "base_uri": "https://localhost:8080/"
        },
        "id": "RqH0Y8jc5qxF",
        "outputId": "265fc1ea-d38e-4295-f476-9f74a6e007ee"
      },
      "execution_count": 56,
      "outputs": [
        {
          "output_type": "stream",
          "name": "stdout",
          "text": [
            "[[0 0]\n",
            " [0 0]]\n"
          ]
        }
      ]
    },
    {
      "cell_type": "markdown",
      "source": [
        "6. For an existing list new_list = [1,2,3,4] convert to an numpy array.{Hint: np.array()}"
      ],
      "metadata": {
        "id": "YA5z_C-s4HYC"
      }
    },
    {
      "cell_type": "code",
      "source": [
        "given_list = [1, 2, 3, 4]\n",
        "# Converting to numpy array\n",
        "numpy_array = np.array(given_list)\n",
        "print(numpy_array)\n"
      ],
      "metadata": {
        "colab": {
          "base_uri": "https://localhost:8080/"
        },
        "id": "KzKEAOAt6xoe",
        "outputId": "1ef629a6-4f75-461a-cbe8-2261e797d2be"
      },
      "execution_count": 57,
      "outputs": [
        {
          "output_type": "stream",
          "name": "stdout",
          "text": [
            "[1 2 3 4]\n"
          ]
        }
      ]
    },
    {
      "cell_type": "markdown",
      "source": [
        "**Section 2:**"
      ],
      "metadata": {
        "id": "JTE0Um8l4Ham"
      }
    },
    {
      "cell_type": "markdown",
      "source": [
        "1. Create an array with values ranging from 10 to 49. {Hint:np.arrange()}.\n",
        "\n"
      ],
      "metadata": {
        "id": "-8oo9TgI4Hdt"
      }
    },
    {
      "cell_type": "code",
      "source": [
        "array_range = np.arange(10, 50)\n",
        "print(array_range)\n"
      ],
      "metadata": {
        "colab": {
          "base_uri": "https://localhost:8080/"
        },
        "id": "WmViGTaE5wiH",
        "outputId": "166bb0fe-cfac-4a57-83bf-97db2cb6caf9"
      },
      "execution_count": 58,
      "outputs": [
        {
          "output_type": "stream",
          "name": "stdout",
          "text": [
            "[10 11 12 13 14 15 16 17 18 19 20 21 22 23 24 25 26 27 28 29 30 31 32 33\n",
            " 34 35 36 37 38 39 40 41 42 43 44 45 46 47 48 49]\n"
          ]
        }
      ]
    },
    {
      "cell_type": "markdown",
      "source": [
        "2. Create a 3X3 matrix with values ranging from 0 to 8.\n",
        "{Hint:look for np.reshape()}\n"
      ],
      "metadata": {
        "id": "SAOwMLIR4HgR"
      }
    },
    {
      "cell_type": "code",
      "source": [
        "matrix = np.arange(9).reshape(3,3)\n",
        "print(matrix)\n"
      ],
      "metadata": {
        "colab": {
          "base_uri": "https://localhost:8080/"
        },
        "id": "4cHaVvPj5xPr",
        "outputId": "7a5ecef5-8898-4516-9efe-a141b06a9f71"
      },
      "execution_count": 59,
      "outputs": [
        {
          "output_type": "stream",
          "name": "stdout",
          "text": [
            "[[0 1 2]\n",
            " [3 4 5]\n",
            " [6 7 8]]\n"
          ]
        }
      ]
    },
    {
      "cell_type": "markdown",
      "source": [
        "3. Create a 3X3 identity matrix.{Hint:np.eye()}\n"
      ],
      "metadata": {
        "id": "BnJQslEO4HjD"
      }
    },
    {
      "cell_type": "code",
      "source": [
        "identity_matrix = np.ones((3,3))\n",
        "print(identity_matrix)\n"
      ],
      "metadata": {
        "colab": {
          "base_uri": "https://localhost:8080/"
        },
        "id": "YsEjyGV25x8d",
        "outputId": "ff225b07-97a2-4ace-ce70-06cac015e222"
      },
      "execution_count": 60,
      "outputs": [
        {
          "output_type": "stream",
          "name": "stdout",
          "text": [
            "[[1. 1. 1.]\n",
            " [1. 1. 1.]\n",
            " [1. 1. 1.]]\n"
          ]
        }
      ]
    },
    {
      "cell_type": "markdown",
      "source": [
        "4. Create a random array of size 30 and find the mean of the array.\n",
        "{Hint:check for np.random.random() and array.mean() function}\n"
      ],
      "metadata": {
        "id": "WW2ITphn4Hlt"
      }
    },
    {
      "cell_type": "code",
      "source": [
        "random_array = np.random.random(30)\n",
        "mean_value = random_array.mean()\n",
        "print(mean_value)\n"
      ],
      "metadata": {
        "colab": {
          "base_uri": "https://localhost:8080/"
        },
        "id": "BYjPcuZU5ymI",
        "outputId": "a0b2a327-6b0b-4881-8ce6-2de36caef1d7"
      },
      "execution_count": 61,
      "outputs": [
        {
          "output_type": "stream",
          "name": "stdout",
          "text": [
            "0.4938195949203042\n"
          ]
        }
      ]
    },
    {
      "cell_type": "markdown",
      "source": [
        "5. Create a 10X10 array with random values and find the minimum and maximum values.\n"
      ],
      "metadata": {
        "id": "3n8-pKRe4Ho0"
      }
    },
    {
      "cell_type": "code",
      "source": [
        "random_matrix = np.random.random((10, 10))\n",
        "min_value = random_matrix.min()\n",
        "max_value = random_matrix.max()\n",
        "print(min_value, max_value)"
      ],
      "metadata": {
        "colab": {
          "base_uri": "https://localhost:8080/"
        },
        "id": "OYu3w1Gj5zJR",
        "outputId": "838ec40c-f7ce-4e61-d4b2-326bd0f8432a"
      },
      "execution_count": 62,
      "outputs": [
        {
          "output_type": "stream",
          "name": "stdout",
          "text": [
            "0.002070896921116394 0.9708763343747225\n"
          ]
        }
      ]
    },
    {
      "cell_type": "markdown",
      "source": [
        "6. Create a zero array of size 10 and replace 5th element with 1.\n"
      ],
      "metadata": {
        "id": "c2C4rCx24Hrh"
      }
    },
    {
      "cell_type": "code",
      "source": [
        "zero_array = np.zeros(10)\n",
        "zero_array[4] = 1  # Replacing the 5th element\n",
        "print(zero_array)\n"
      ],
      "metadata": {
        "colab": {
          "base_uri": "https://localhost:8080/"
        },
        "id": "Uo9mHWwE5zx6",
        "outputId": "5348d37f-f00e-4c99-c8ae-ee99289b6d62"
      },
      "execution_count": 63,
      "outputs": [
        {
          "output_type": "stream",
          "name": "stdout",
          "text": [
            "[0. 0. 0. 0. 1. 0. 0. 0. 0. 0.]\n"
          ]
        }
      ]
    },
    {
      "cell_type": "markdown",
      "source": [
        "7. Reverse an array arr = [1,2,0,0,4,0].\n"
      ],
      "metadata": {
        "id": "SDDw07rZ4HuE"
      }
    },
    {
      "cell_type": "code",
      "source": [
        "arr = np.array([1, 2, 0, 0, 4, 0])\n",
        "reversed_array = arr[::-1]\n",
        "print(reversed_array)\n"
      ],
      "metadata": {
        "colab": {
          "base_uri": "https://localhost:8080/"
        },
        "id": "s7QyKARe50T-",
        "outputId": "f9f2c058-d3cf-46fc-95e1-d3757a8c0e3c"
      },
      "execution_count": 64,
      "outputs": [
        {
          "output_type": "stream",
          "name": "stdout",
          "text": [
            "[0 4 0 0 2 1]\n"
          ]
        }
      ]
    },
    {
      "cell_type": "markdown",
      "source": [
        "8. Create a 2d array with 1 on border and 0 inside.\n"
      ],
      "metadata": {
        "id": "ZkID7jSI4Hw9"
      }
    },
    {
      "cell_type": "code",
      "source": [
        "border_array = np.ones((5, 5))\n",
        "border_array[1:-1, 1:-1] = 0\n",
        "print(border_array)\n"
      ],
      "metadata": {
        "colab": {
          "base_uri": "https://localhost:8080/"
        },
        "id": "n7PZ5upu50-u",
        "outputId": "9a01bbd6-554c-4ce3-e17c-80c5c525cf06"
      },
      "execution_count": 65,
      "outputs": [
        {
          "output_type": "stream",
          "name": "stdout",
          "text": [
            "[[1. 1. 1. 1. 1.]\n",
            " [1. 0. 0. 0. 1.]\n",
            " [1. 0. 0. 0. 1.]\n",
            " [1. 0. 0. 0. 1.]\n",
            " [1. 1. 1. 1. 1.]]\n"
          ]
        }
      ]
    },
    {
      "cell_type": "markdown",
      "source": [
        "9. Create a 8X8 matrix and fill it with a checkerboard pattern."
      ],
      "metadata": {
        "id": "w2bn7I0y4HzY"
      }
    },
    {
      "cell_type": "code",
      "source": [
        "checkerboard = np.zeros((8, 8))\n",
        "checkerboard[1::2, ::2] = 1\n",
        "checkerboard[::2, 1::2] = 1\n",
        "print(checkerboard)\n"
      ],
      "metadata": {
        "colab": {
          "base_uri": "https://localhost:8080/"
        },
        "id": "3qhUDB2g51iG",
        "outputId": "1553e67f-b345-4a66-c167-c8c226c97dd1"
      },
      "execution_count": 66,
      "outputs": [
        {
          "output_type": "stream",
          "name": "stdout",
          "text": [
            "[[0. 1. 0. 1. 0. 1. 0. 1.]\n",
            " [1. 0. 1. 0. 1. 0. 1. 0.]\n",
            " [0. 1. 0. 1. 0. 1. 0. 1.]\n",
            " [1. 0. 1. 0. 1. 0. 1. 0.]\n",
            " [0. 1. 0. 1. 0. 1. 0. 1.]\n",
            " [1. 0. 1. 0. 1. 0. 1. 0.]\n",
            " [0. 1. 0. 1. 0. 1. 0. 1.]\n",
            " [1. 0. 1. 0. 1. 0. 1. 0.]]\n"
          ]
        }
      ]
    },
    {
      "cell_type": "markdown",
      "source": [
        "**Section 3:**"
      ],
      "metadata": {
        "id": "eHzO9v_Z4H2G"
      }
    },
    {
      "cell_type": "markdown",
      "source": [
        "**Problem 1:**\n",
        "For the following arrays:\n",
        "x = np.array([[1,2],[3,5]]) and y = np.array([[5,6],[7,8]]);\n",
        "v = np.array([9,10]) and w = np.array([11,12]);\n",
        "Complete all the task using numpy:\n",
        "1. Add the two array.\n",
        "2. Subtract the two array.\n",
        "3. Multiply the array with any integers of your choice.\n",
        "4. Find the square of each element of the array.\n",
        "5. Find the dot product between: v(and)w ; x(and)v ; x(and)y.\n",
        "6. Concatenate x(and)y along row and Concatenate v(and)w along column.\n",
        "{Hint:try np.concatenate() or np.vstack() functions.\n",
        "7. Concatenate x(and)v; if you get an error, observe and explain why did you get the error?\n",
        "\n"
      ],
      "metadata": {
        "id": "WaBgbLQe4H5g"
      }
    },
    {
      "cell_type": "code",
      "source": [
        "x = np.array([[1, 2], [3, 5]])\n",
        "y = np.array([[5, 6], [7, 8]])\n",
        "v = np.array([9, 10])\n",
        "w = np.array([11, 12])\n",
        "\n",
        "# Addition\n",
        "result = x + y\n",
        "print(result)\n",
        "\n",
        "# Subtraction\n",
        "result = x - y\n",
        "print(result)\n",
        "\n",
        "# Multiplication\n",
        "result = x * 2\n",
        "print(result)\n",
        "\n",
        "# Element-wise square\n",
        "squared = x ** 2\n",
        "print(squared)\n",
        "\n",
        "# Dot products\n",
        "dot_vw = np.dot(v, w)\n",
        "dot_xv = np.dot(x, v)\n",
        "dot_xy = np.dot(x, y)\n",
        "print(dot_vw, dot_xv, dot_xy)\n",
        "\n",
        "# Concatenate\n",
        "concat_xy = np.concatenate((x, y), axis=0)\n",
        "concat_vw = np.vstack((v, w))\n",
        "print(concat_xy, concat_vw)\n",
        "\n",
        "#Attemping a concatenation for shape mismatch\n",
        "#result = np.concatenate((x, v))"
      ],
      "metadata": {
        "colab": {
          "base_uri": "https://localhost:8080/"
        },
        "id": "sAVt46NZ52aJ",
        "outputId": "f42eeaaa-0056-4be8-c719-28ca1fba06a7"
      },
      "execution_count": 67,
      "outputs": [
        {
          "output_type": "stream",
          "name": "stdout",
          "text": [
            "[[ 6  8]\n",
            " [10 13]]\n",
            "[[-4 -4]\n",
            " [-4 -3]]\n",
            "[[ 2  4]\n",
            " [ 6 10]]\n",
            "[[ 1  4]\n",
            " [ 9 25]]\n",
            "219 [29 77] [[19 22]\n",
            " [50 58]]\n",
            "[[1 2]\n",
            " [3 5]\n",
            " [5 6]\n",
            " [7 8]] [[ 9 10]\n",
            " [11 12]]\n"
          ]
        }
      ]
    },
    {
      "cell_type": "markdown",
      "source": [
        "Problem 2:\n",
        "For the following arrays:\n",
        "A = np.array([[3,4],[7,8]]) and B = np.array([[5,3],[2,1]]);\n",
        "Prove following with Numpy:\n",
        "1. Prove A.A−1 = I.\n",
        "2. Prove AB Transpose ̸= B transpose * A transpose.\n",
        "3. Prove (AB) Transpose = B transpose * A Transpose"
      ],
      "metadata": {
        "id": "3S4j1_Cq4H82"
      }
    },
    {
      "cell_type": "code",
      "source": [
        "A = np.array([[3, 4], [7, 8]])\n",
        "B = np.array([[5, 3], [2, 1]])"
      ],
      "metadata": {
        "id": "LTOzID3S53G5"
      },
      "execution_count": 68,
      "outputs": []
    },
    {
      "cell_type": "markdown",
      "source": [
        "**Problem 3:**\n",
        "Solve the following system of Linear equation using Inverse Methods.\n",
        "\n",
        "2x − 3y + z = −1\n",
        "\n",
        "x − y + 2z = −3\n",
        "\n",
        "3x + y − z = 9\n",
        "\n",
        "{Hint: First use Numpy array to represent the equation in Matrix form. Then Solve for: AX = B}\n",
        "• Now: solve the above equation using np.linalg.inv function.{Explore more about ”linalg” function\n",
        "of Numpy}"
      ],
      "metadata": {
        "id": "bgxdJnx74Dzs"
      }
    },
    {
      "cell_type": "code",
      "source": [
        "A = np.array([[2, -3, 1], [1, -1, 2], [3, 1, -1]])\n",
        "B = np.array([-1, -3, 9])\n",
        "\n",
        "X = np.linalg.solve(A, B)\n",
        "print(X)\n",
        "\n",
        "A_inverse = np.linalg.inv(A)\n",
        "X = np.dot(A_inverse, B)\n",
        "print(X)\n"
      ],
      "metadata": {
        "colab": {
          "base_uri": "https://localhost:8080/"
        },
        "id": "F9_Kyr5m53vx",
        "outputId": "f17e5ffc-89f3-4b14-f7ad-f6569c069e66"
      },
      "execution_count": 69,
      "outputs": [
        {
          "output_type": "stream",
          "name": "stdout",
          "text": [
            "[ 2.  1. -2.]\n",
            "[ 2.  1. -2.]\n"
          ]
        }
      ]
    },
    {
      "cell_type": "markdown",
      "source": [
        "**1. Element-wise Addition:**\n",
        "• Using Python Lists, perform element-wise addition of two lists of size 1, 000, 000. Measure\n",
        "and Print the time taken for this operation.\n",
        "\n",
        "• Using Numpy Arrays, Repeat the calculation and measure and print the time taken for this\n",
        "operation.\n"
      ],
      "metadata": {
        "id": "YNn5a-Da4D54"
      }
    },
    {
      "cell_type": "code",
      "source": [
        "import time\n",
        "\n",
        "list1 = [i for i in range(1000000)]\n",
        "list2 = [i for i in range(1000000)]\n",
        "\n",
        "# Measure time for element-wise addition\n",
        "start_time = time.time()\n",
        "result_list = []\n",
        "for i in range(1000000):\n",
        "    result_list.append((list1[i]+list2[i]))\n",
        "    end_time = time.time()\n",
        "\n",
        "print(\"Time for list addition:\", end_time - start_time)\n"
      ],
      "metadata": {
        "colab": {
          "base_uri": "https://localhost:8080/"
        },
        "id": "xVMiUMGq541S",
        "outputId": "aed80d15-3814-43ea-eac6-663e9c0fa3cb"
      },
      "execution_count": 70,
      "outputs": [
        {
          "output_type": "stream",
          "name": "stdout",
          "text": [
            "Time for list addition: 0.7023539543151855\n"
          ]
        }
      ]
    },
    {
      "cell_type": "code",
      "source": [
        "arr1 = np.arange(1000000)\n",
        "arr2 = np.arange(1000000)\n",
        "\n",
        "start_time = time.time()\n",
        "result_array = arr1 + arr2\n",
        "end_time = time.time()\n",
        "\n",
        "print(\"Time for NumPy addition:\", end_time - start_time)\n"
      ],
      "metadata": {
        "colab": {
          "base_uri": "https://localhost:8080/"
        },
        "id": "JI9Njw-D54Yp",
        "outputId": "fd35a6de-94ab-404a-d166-4c4b97b24dc9"
      },
      "execution_count": 71,
      "outputs": [
        {
          "output_type": "stream",
          "name": "stdout",
          "text": [
            "Time for NumPy addition: 0.0025391578674316406\n"
          ]
        }
      ]
    },
    {
      "cell_type": "markdown",
      "source": [
        "**2. Element-wise Multiplication**\n",
        "\n",
        "• Using Python Lists, perform element-wise multiplication of two lists of size 1, 000, 000. Mea-\n",
        "sure and Print the time taken for this operation.\n",
        "\n",
        "• Using Numpy Arrays, Repeat the calculation and measure and print the time taken for this\n",
        "operation.\n"
      ],
      "metadata": {
        "id": "jyGcwnu74EAO"
      }
    },
    {
      "cell_type": "code",
      "source": [
        "list1 = [i for i in range(1000000)]\n",
        "list2 = [i for i in range(1000000)]\n",
        "\n",
        "# Measure time for element-wise multiplication\n",
        "start_time = time.time()\n",
        "for i in range(1000000):\n",
        "  result_list.append((list1[i] * list2[i]))\n",
        "end_time = time.time()\n",
        "\n",
        "print(\"Time for list addition:\", end_time - start_time)\n"
      ],
      "metadata": {
        "colab": {
          "base_uri": "https://localhost:8080/"
        },
        "id": "TWSZOKyY58A7",
        "outputId": "8aa1cc63-3c23-43fe-ab2e-a645e72dcfc9"
      },
      "execution_count": 72,
      "outputs": [
        {
          "output_type": "stream",
          "name": "stdout",
          "text": [
            "Time for list addition: 0.3070499897003174\n"
          ]
        }
      ]
    },
    {
      "cell_type": "code",
      "source": [
        "arr1 = np.arange(1000000)\n",
        "arr2 = np.arange(1000000)\n",
        "\n",
        "start_time = time.time()\n",
        "result_array = arr1 * arr2\n",
        "end_time = time.time()\n",
        "\n",
        "print(\"Time for NumPy multiplication:\", end_time - start_time)"
      ],
      "metadata": {
        "colab": {
          "base_uri": "https://localhost:8080/"
        },
        "id": "5x_naPcR571N",
        "outputId": "5cfce2c3-1266-4c18-9b9c-f4318fbac297"
      },
      "execution_count": 73,
      "outputs": [
        {
          "output_type": "stream",
          "name": "stdout",
          "text": [
            "Time for NumPy multiplication: 0.0023381710052490234\n"
          ]
        }
      ]
    },
    {
      "cell_type": "markdown",
      "source": [
        "**3. Dot Product**\n",
        "• Using Python Lists, compute the dot product of two lists of size 1, 000, 000. Measure and\n",
        "Print the time taken for this operation.\n",
        "\n",
        "• Using Numpy Arrays, Repeat the calculation and measure and print the time taken for this\n",
        "operation.\n"
      ],
      "metadata": {
        "id": "Hbiw27OP4EF4"
      }
    },
    {
      "cell_type": "code",
      "source": [
        "import time\n",
        "\n",
        "list1 = [i for i in range(1000000)]\n",
        "list2 = [i for i in range(1000000)]\n",
        "\n",
        "# Measure time for element-wise addition\n",
        "start_time = time.time()\n",
        "dot_product=0\n",
        "for i in range(1000000):\n",
        "  dot_product = dot_product + (list1[i] * list2[i])\n",
        "end_time = time.time()\n",
        "\n",
        "print(\"Time for list addition:\", end_time - start_time)\n"
      ],
      "metadata": {
        "colab": {
          "base_uri": "https://localhost:8080/"
        },
        "id": "fxwWP-yF58zc",
        "outputId": "c0047c9d-2126-42ba-8852-400b2aa697c2"
      },
      "execution_count": 74,
      "outputs": [
        {
          "output_type": "stream",
          "name": "stdout",
          "text": [
            "Time for list addition: 0.28375697135925293\n"
          ]
        }
      ]
    },
    {
      "cell_type": "code",
      "source": [
        "arr1 = np.arange(1000000)\n",
        "arr2 = np.arange(1000000)\n",
        "\n",
        "start_time = time.time()\n",
        "dot_product_array = np.dot(arr1, arr2)\n",
        "end_time = time.time()\n",
        "\n",
        "print(\"Time for NumPy dot product:\", end_time - start_time)\n"
      ],
      "metadata": {
        "colab": {
          "base_uri": "https://localhost:8080/"
        },
        "id": "ZaMwZH4J58pA",
        "outputId": "af5b1ebb-dc41-4690-a06f-b1d24a6feac2"
      },
      "execution_count": 75,
      "outputs": [
        {
          "output_type": "stream",
          "name": "stdout",
          "text": [
            "Time for NumPy dot product: 0.0020508766174316406\n"
          ]
        }
      ]
    },
    {
      "cell_type": "markdown",
      "source": [
        "**4. Matrix Multiplication**\n",
        "• Using Python lists, perform matrix multiplication of two matrices of size 1000x1000. Measure\n",
        "and print the time taken for this operation.\n",
        "\n",
        "• Using NumPy arrays, perform matrix multiplication of two matrices of size 1000x1000. Measure and print the time taken for this operation."
      ],
      "metadata": {
        "id": "p47xIT7F4EL6"
      }
    },
    {
      "cell_type": "code",
      "source": [
        "matrix1 = [[j for j in range(1000)] for i in range(1000)]\n",
        "matrix2 = [[j for j in range(1000)] for i in range(1000)]\n",
        "\n",
        "start_time = time.time()\n",
        "result_matrix = [[0] * 1000 for i in range(1000)]\n",
        "\n",
        "for i in range(len(matrix1)):  #rows\n",
        "    for j in range(len(matrix2[0])):  #columns\n",
        "        for k in range(len(matrix2)):  #rows\n",
        "            result_matrix[i][j] += matrix1[i][k] * matrix2[k][j]\n",
        "\n",
        "end_time = time.time()\n",
        "\n",
        "print(\"Time for list matrix multiplication:\", end_time - start_time)\n"
      ],
      "metadata": {
        "colab": {
          "base_uri": "https://localhost:8080/"
        },
        "id": "O-Qt7m8t59kJ",
        "outputId": "c15723bb-91c8-44bc-ccf1-d4784687a594"
      },
      "execution_count": 76,
      "outputs": [
        {
          "output_type": "stream",
          "name": "stdout",
          "text": [
            "Time for list matrix multiplication: 515.4498915672302\n"
          ]
        }
      ]
    },
    {
      "cell_type": "code",
      "source": [
        "matrix1 = np.random.random((1000, 1000))\n",
        "matrix2 = np.random.random((1000, 1000))\n",
        "\n",
        "# Measure time for matrix multiplication\n",
        "start_time = time.time()\n",
        "result_matrix = np.dot(matrix1, matrix2)\n",
        "end_time = time.time()\n",
        "\n",
        "print(\"Time for NumPy matrix multiplication:\", end_time - start_time)\n"
      ],
      "metadata": {
        "colab": {
          "base_uri": "https://localhost:8080/"
        },
        "id": "euEQpwPS59eG",
        "outputId": "193c09dd-c23d-4153-9440-b5c8af38d945"
      },
      "execution_count": 77,
      "outputs": [
        {
          "output_type": "stream",
          "name": "stdout",
          "text": [
            "Time for NumPy matrix multiplication: 0.062085866928100586\n"
          ]
        }
      ]
    }
  ]
}