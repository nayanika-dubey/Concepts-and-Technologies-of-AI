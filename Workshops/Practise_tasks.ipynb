{
  "nbformat": 4,
  "nbformat_minor": 0,
  "metadata": {
    "colab": {
      "provenance": []
    },
    "kernelspec": {
      "name": "python3",
      "display_name": "Python 3"
    },
    "language_info": {
      "name": "python"
    }
  },
  "cells": [
    {
      "cell_type": "markdown",
      "source": [
        "# Practise Tasks:\n",
        "\n",
        "For the following Datasets:\n",
        "\n",
        "Salary.csv: Try implementing Linear Regression with OLS and explain the Result.\n",
        "\n",
        "Insurance.csv: Try implementing Multiple Linear Regression from Scratch: While Doing that also practise following:\n",
        "  1.   Can you Identify Qualitative and Quantitative Varaible.\n",
        "  2.   Drop all the Qualitative Varaible from the dataframe.\n",
        "  3.   If you do not want to drop the qualitative varaible, you can convert them into numeric variable as you did in Assignment-1. {You can also try sklearn label encoder function.}\n",
        "  4.   Practise your Visualization Skills.\n",
        "  \n",
        "\n"
      ],
      "metadata": {
        "id": "_w2jAWbN_Xqb"
      }
    },
    {
      "cell_type": "markdown",
      "source": [
        "#Salary.csv"
      ],
      "metadata": {
        "id": "mZhOH-Cql5Fa"
      }
    },
    {
      "cell_type": "code",
      "source": [
        "import pandas as pd\n",
        "import numpy as np\n",
        "import statsmodels.api as sm\n",
        "import matplotlib.pyplot as plt\n",
        "\n",
        "# Load the Salary dataset\n",
        "salary_data = pd.read_csv('/content/drive/MyDrive/Colab Notebooks/Datasets/Datasets/Salary_Data.csv')\n",
        "\n",
        "# Define the feature (X) and target (y)\n",
        "X = salary_data['YearsExperience']\n",
        "y = salary_data['Salary']\n",
        "\n",
        "# Add a constant to the feature for the intercept term in OLS\n",
        "X = sm.add_constant(X)\n",
        "\n",
        "# Perform OLS regression\n",
        "model = sm.OLS(y, X).fit()\n",
        "\n",
        "# Print the summary of the regression\n",
        "print(model.summary())"
      ],
      "metadata": {
        "id": "w6eO5V_K_YIh",
        "colab": {
          "base_uri": "https://localhost:8080/"
        },
        "outputId": "c88339b1-7f8a-4ca2-87af-c511c21d5a1e"
      },
      "execution_count": 13,
      "outputs": [
        {
          "output_type": "stream",
          "name": "stdout",
          "text": [
            "                            OLS Regression Results                            \n",
            "==============================================================================\n",
            "Dep. Variable:                 Salary   R-squared:                       0.957\n",
            "Model:                            OLS   Adj. R-squared:                  0.955\n",
            "Method:                 Least Squares   F-statistic:                     622.5\n",
            "Date:                Sat, 11 Jan 2025   Prob (F-statistic):           1.14e-20\n",
            "Time:                        13:45:43   Log-Likelihood:                -301.44\n",
            "No. Observations:                  30   AIC:                             606.9\n",
            "Df Residuals:                      28   BIC:                             609.7\n",
            "Df Model:                           1                                         \n",
            "Covariance Type:            nonrobust                                         \n",
            "===================================================================================\n",
            "                      coef    std err          t      P>|t|      [0.025      0.975]\n",
            "-----------------------------------------------------------------------------------\n",
            "const            2.579e+04   2273.053     11.347      0.000    2.11e+04    3.04e+04\n",
            "YearsExperience  9449.9623    378.755     24.950      0.000    8674.119    1.02e+04\n",
            "==============================================================================\n",
            "Omnibus:                        2.140   Durbin-Watson:                   1.648\n",
            "Prob(Omnibus):                  0.343   Jarque-Bera (JB):                1.569\n",
            "Skew:                           0.363   Prob(JB):                        0.456\n",
            "Kurtosis:                       2.147   Cond. No.                         13.2\n",
            "==============================================================================\n",
            "\n",
            "Notes:\n",
            "[1] Standard Errors assume that the covariance matrix of the errors is correctly specified.\n"
          ]
        }
      ]
    },
    {
      "cell_type": "code",
      "source": [
        "plt.scatter(salary_data['YearsExperience'], salary_data['Salary'], color='blue', label='Data')\n",
        "plt.plot(salary_data['YearsExperience'], model.predict(X), color='red', label='OLS Line')\n",
        "plt.xlabel('Years of Experience')\n",
        "plt.ylabel('Salary')\n",
        "plt.title('Years of Experience vs Salary')\n",
        "plt.legend()\n",
        "plt.show()"
      ],
      "metadata": {
        "colab": {
          "base_uri": "https://localhost:8080/",
          "height": 472
        },
        "id": "ShynzUxVmA1b",
        "outputId": "5ee4fcd5-536f-45f4-b8ad-9dd046770262"
      },
      "execution_count": 14,
      "outputs": [
        {
          "output_type": "display_data",
          "data": {
            "text/plain": [
              "<Figure size 640x480 with 1 Axes>"
            ],
            "image/png": "[encoded data removed]"
          },
          "metadata": {}
        }
      ]
    },
    {
      "cell_type": "markdown",
      "source": [
        "#Insurance.csv"
      ],
      "metadata": {
        "id": "dY0r2y2mmZ-R"
      }
    },
    {
      "cell_type": "code",
      "source": [
        "insurance_data = pd.read_csv('/content/drive/MyDrive/Colab Notebooks/Datasets/Datasets/insurance.csv')\n",
        "print(insurance_data.dtypes)\n",
        "\n",
        "qualitative = insurance_data.select_dtypes(include=['object']).columns.tolist()\n",
        "quantitative = insurance_data.select_dtypes(exclude=['object']).columns.tolist()\n",
        "\n",
        "print(\"Qualitative Variables:\", qualitative)\n",
        "print(\"Quantitative Variables:\", quantitative)"
      ],
      "metadata": {
        "colab": {
          "base_uri": "https://localhost:8080/"
        },
        "id": "xCSNuN2zmT4m",
        "outputId": "4c13a912-6523-4c1a-cba1-bfc3d1b28253"
      },
      "execution_count": 15,
      "outputs": [
        {
          "output_type": "stream",
          "name": "stdout",
          "text": [
            "age           int64\n",
            "sex          object\n",
            "bmi         float64\n",
            "children      int64\n",
            "smoker       object\n",
            "region       object\n",
            "charges     float64\n",
            "dtype: object\n",
            "Qualitative Variables: ['sex', 'smoker', 'region']\n",
            "Quantitative Variables: ['age', 'bmi', 'children', 'charges']\n"
          ]
        }
      ]
    },
    {
      "cell_type": "code",
      "source": [
        "insurance_quantitative = insurance_data.drop(columns=qualitative)\n",
        "print(insurance_quantitative.head())\n"
      ],
      "metadata": {
        "colab": {
          "base_uri": "https://localhost:8080/"
        },
        "id": "p4PFmSfWmhZk",
        "outputId": "0140edbf-9aee-40e1-d3f4-2567a60c5b62"
      },
      "execution_count": 16,
      "outputs": [
        {
          "output_type": "stream",
          "name": "stdout",
          "text": [
            "   age     bmi  children      charges\n",
            "0   19  27.900         0  16884.92400\n",
            "1   18  33.770         1   1725.55230\n",
            "2   28  33.000         3   4449.46200\n",
            "3   33  22.705         0  21984.47061\n",
            "4   32  28.880         0   3866.85520\n"
          ]
        }
      ]
    },
    {
      "cell_type": "code",
      "source": [
        "from sklearn.preprocessing import LabelEncoder\n",
        "\n",
        "insurance_encoded = insurance_data.copy()\n",
        "for col in qualitative:\n",
        "    le = LabelEncoder()\n",
        "    insurance_encoded[col] = le.fit_transform(insurance_encoded[col])\n",
        "print(insurance_encoded.head())"
      ],
      "metadata": {
        "colab": {
          "base_uri": "https://localhost:8080/"
        },
        "id": "9VXZ2DQKmpve",
        "outputId": "6f53cdbd-7407-4809-a436-626969e68ea8"
      },
      "execution_count": 17,
      "outputs": [
        {
          "output_type": "stream",
          "name": "stdout",
          "text": [
            "   age  sex     bmi  children  smoker  region      charges\n",
            "0   19    0  27.900         0       1       3  16884.92400\n",
            "1   18    1  33.770         1       0       2   1725.55230\n",
            "2   28    1  33.000         3       0       2   4449.46200\n",
            "3   33    1  22.705         0       0       1  21984.47061\n",
            "4   32    1  28.880         0       0       1   3866.85520\n"
          ]
        }
      ]
    },
    {
      "cell_type": "code",
      "source": [
        "X = insurance_encoded.drop(columns=['charges'])\n",
        "y = insurance_encoded['charges']\n",
        "\n",
        "X = np.c_[np.ones(X.shape[0]), X]\n",
        "X_transpose = X.T\n",
        "coefficients = np.linalg.inv(X_transpose.dot(X)).dot(X_transpose).dot(y)\n",
        "\n",
        "print(\"Coefficients:\", coefficients)\n",
        "\n",
        "# Predictions\n",
        "y_pred = X.dot(coefficients)\n",
        "\n",
        "# Evaluate the model\n",
        "from sklearn.metrics import mean_squared_error, r2_score\n",
        "mse = mean_squared_error(y, y_pred)\n",
        "r2 = r2_score(y, y_pred)\n",
        "\n",
        "print(\"Mean Squared Error:\", mse)\n",
        "print(\"R-squared:\", r2)"
      ],
      "metadata": {
        "colab": {
          "base_uri": "https://localhost:8080/"
        },
        "id": "zAlUBg6ImvwN",
        "outputId": "b554cc76-cd11-43ab-fd8c-c41867f27f80"
      },
      "execution_count": 18,
      "outputs": [
        {
          "output_type": "stream",
          "name": "stdout",
          "text": [
            "Coefficients: [-11815.45232123    257.28807486   -131.11057962    332.57013224\n",
            "    479.36939355  23820.43412267   -353.64001656]\n",
            "Mean Squared Error: 36527659.88568238\n",
            "R-squared: 0.7507372027994937\n"
          ]
        }
      ]
    }
  ]
}