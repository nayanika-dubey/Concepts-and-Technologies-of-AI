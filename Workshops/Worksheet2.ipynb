{
  "nbformat": 4,
  "nbformat_minor": 0,
  "metadata": {
    "colab": {
      "provenance": []
    },
    "kernelspec": {
      "name": "python3",
      "display_name": "Python 3"
    },
    "language_info": {
      "name": "python"
    }
  },
  "cells": [
    {
      "cell_type": "markdown",
      "source": [
        "**TO - DO TASKS**"
      ],
      "metadata": {
        "id": "Yg2WeqD8IRXd"
      }
    },
    {
      "cell_type": "code",
      "source": [
        "import pandas as pd\n",
        "import numpy as np"
      ],
      "metadata": {
        "id": "Y-1jvVLYJ1fj"
      },
      "execution_count": 1,
      "outputs": []
    },
    {
      "cell_type": "markdown",
      "source": [
        "**Problem 1 - Data Read, Write and Inspect:\n",
        "Complete all following Task :**\n",
        "\n",
        "• Dataset for the Task: \"bank.csv\"\n",
        "\n",
        "1. Load the provided dataset and import in pandas DataFrame.\n",
        "\n",
        "2. Check info of the DataFrame and identify following:\n",
        "\n",
        "(a) columns with dtypes=object\n",
        "\n",
        "(b) unique values of those columns.\n",
        "\n",
        "(c) check for the total number of null values in each column.\n",
        "\n",
        "3. Drop all the columns with dtypes object and store in new DataFrame, also write the DataFrame in\n",
        "”.csv” with name ”banknumericdata.csv”\n",
        "\n",
        "4. Read ”banknumericdata.csv” and Find the summary statistics."
      ],
      "metadata": {
        "id": "w-7Jp4v0IVw7"
      }
    },
    {
      "cell_type": "code",
      "source": [
        "# Load dataset\n",
        "df_bank = pd.read_csv(\"/content/drive/MyDrive/Colab Notebooks/Datasets/Datasets/bank .csv\")\n",
        "\n",
        "# Info of DataFrame\n",
        "print(df_bank.info(), \"\\n\")\n",
        "\n",
        "# (a) Columns with dtype=object\n",
        "object_columns = df_bank.select_dtypes(include='object').columns\n",
        "print(\"Object Columns:\", object_columns, \"\\n\")\n",
        "\n",
        "# (b) Unique values of object columns\n",
        "for col in object_columns:\n",
        "    print(f\"Unique values in {col}:\", df_bank[col].unique(), \"\\n\")\n",
        "\n",
        "# (c) Null values in each column\n",
        "print(\"Null values in each column:\\n\", df_bank.isnull().sum(), \"\\n\")\n",
        "\n",
        "# Drop object columns and save as new DataFrame\n",
        "df_numeric = df_bank.drop(columns=object_columns)\n",
        "df_numeric.to_csv(\"banknumericdata.csv\", index=False)\n",
        "\n",
        "# Load and show summary statistics\n",
        "df_numeric_loaded = pd.read_csv(\"banknumericdata.csv\")\n",
        "print(\"Summary statistics:\\n\", df_numeric_loaded.describe(), \"\\n\")\n"
      ],
      "metadata": {
        "colab": {
          "base_uri": "https://localhost:8080/"
        },
        "id": "wqKRYQQ6JMA6",
        "outputId": "dce73c46-69d2-46f1-b0c3-f60e11b5acb7"
      },
      "execution_count": 2,
      "outputs": [
        {
          "output_type": "stream",
          "name": "stdout",
          "text": [
            "<class 'pandas.core.frame.DataFrame'>\n",
            "RangeIndex: 45211 entries, 0 to 45210\n",
            "Data columns (total 17 columns):\n",
            " #   Column     Non-Null Count  Dtype \n",
            "---  ------     --------------  ----- \n",
            " 0   age        45211 non-null  int64 \n",
            " 1   job        45211 non-null  object\n",
            " 2   marital    45211 non-null  object\n",
            " 3   education  45211 non-null  object\n",
            " 4   default    45211 non-null  object\n",
            " 5   balance    45211 non-null  int64 \n",
            " 6   housing    45211 non-null  object\n",
            " 7   loan       45211 non-null  object\n",
            " 8   contact    45211 non-null  object\n",
            " 9   day        45211 non-null  int64 \n",
            " 10  month      45211 non-null  object\n",
            " 11  duration   45211 non-null  int64 \n",
            " 12  campaign   45211 non-null  int64 \n",
            " 13  pdays      45211 non-null  int64 \n",
            " 14  previous   45211 non-null  int64 \n",
            " 15  poutcome   45211 non-null  object\n",
            " 16  y          45211 non-null  object\n",
            "dtypes: int64(7), object(10)\n",
            "memory usage: 5.9+ MB\n",
            "None \n",
            "\n",
            "Object Columns: Index(['job', 'marital', 'education', 'default', 'housing', 'loan', 'contact',\n",
            "       'month', 'poutcome', 'y'],\n",
            "      dtype='object') \n",
            "\n",
            "Unique values in job: ['management' 'technician' 'entrepreneur' 'blue-collar' 'unknown'\n",
            " 'retired' 'admin.' 'services' 'self-employed' 'unemployed' 'housemaid'\n",
            " 'student'] \n",
            "\n",
            "Unique values in marital: ['married' 'single' 'divorced'] \n",
            "\n",
            "Unique values in education: ['tertiary' 'secondary' 'unknown' 'primary'] \n",
            "\n",
            "Unique values in default: ['no' 'yes'] \n",
            "\n",
            "Unique values in housing: ['yes' 'no'] \n",
            "\n",
            "Unique values in loan: ['no' 'yes'] \n",
            "\n",
            "Unique values in contact: ['unknown' 'cellular' 'telephone'] \n",
            "\n",
            "Unique values in month: ['may' 'jun' 'jul' 'aug' 'oct' 'nov' 'dec' 'jan' 'feb' 'mar' 'apr' 'sep'] \n",
            "\n",
            "Unique values in poutcome: ['unknown' 'failure' 'other' 'success'] \n",
            "\n",
            "Unique values in y: ['no' 'yes'] \n",
            "\n",
            "Null values in each column:\n",
            " age          0\n",
            "job          0\n",
            "marital      0\n",
            "education    0\n",
            "default      0\n",
            "balance      0\n",
            "housing      0\n",
            "loan         0\n",
            "contact      0\n",
            "day          0\n",
            "month        0\n",
            "duration     0\n",
            "campaign     0\n",
            "pdays        0\n",
            "previous     0\n",
            "poutcome     0\n",
            "y            0\n",
            "dtype: int64 \n",
            "\n",
            "Summary statistics:\n",
            "                 age        balance           day      duration      campaign  \\\n",
            "count  45211.000000   45211.000000  45211.000000  45211.000000  45211.000000   \n",
            "mean      40.936210    1362.272058     15.806419    258.163080      2.763841   \n",
            "std       10.618762    3044.765829      8.322476    257.527812      3.098021   \n",
            "min       18.000000   -8019.000000      1.000000      0.000000      1.000000   \n",
            "25%       33.000000      72.000000      8.000000    103.000000      1.000000   \n",
            "50%       39.000000     448.000000     16.000000    180.000000      2.000000   \n",
            "75%       48.000000    1428.000000     21.000000    319.000000      3.000000   \n",
            "max       95.000000  102127.000000     31.000000   4918.000000     63.000000   \n",
            "\n",
            "              pdays      previous  \n",
            "count  45211.000000  45211.000000  \n",
            "mean      40.197828      0.580323  \n",
            "std      100.128746      2.303441  \n",
            "min       -1.000000      0.000000  \n",
            "25%       -1.000000      0.000000  \n",
            "50%       -1.000000      0.000000  \n",
            "75%       -1.000000      0.000000  \n",
            "max      871.000000    275.000000   \n",
            "\n"
          ]
        }
      ]
    },
    {
      "cell_type": "markdown",
      "source": [
        "**Complete all the following Task:**\n",
        "• Dataset for the Task: \"medical_student.csv\"\n",
        "\n",
        "1. Load the provided dataset and import in pandas DataFrame.\n",
        "\n",
        "2. Check info of the DataFrame and identify column with missing (null) values.\n",
        "\n",
        "3. For the column with missing values fill the values using various techniques we discussed above. Try\n",
        "to explain why did you select the particular methods for particular column.\n",
        "\n",
        "4. Check for any duplicate values present in Dataset and do necessary to manage the duplicate items.\n",
        "{Hint: dataset.duplicated.sum()}"
      ],
      "metadata": {
        "id": "TUqES5zBIWml"
      }
    },
    {
      "cell_type": "code",
      "source": [
        "# Load dataset\n",
        "df_medical = pd.read_csv(\"/content/drive/MyDrive/Colab Notebooks/Datasets/Datasets/medical_students_dataset.csv\")\n",
        "\n",
        "# Info and null values\n",
        "print(df_medical.info())\n",
        "print(\"Null values:\\n\", df_medical.isnull().sum(), \"\\n\")\n",
        "\n",
        "# Fill missing values\n",
        "df_filled = df_medical.copy()\n",
        "for col in df_filled.columns:\n",
        "    if df_filled[col].isnull().sum() > 0:\n",
        "        if df_filled[col].dtype in ['float64', 'int64']:\n",
        "            df_filled[col].fillna(df_filled[col].mean(), inplace=True)  # Numerical: mean\n",
        "        else:\n",
        "            df_filled[col].fillna(df_filled[col].mode()[0], inplace=True)  # Categorical: mode\n",
        "\n",
        "# Check and remove duplicates\n",
        "print(\"Number of duplicate rows:\", df_filled.duplicated().sum(),  \"\\n\")\n",
        "df_filled.drop_duplicates(inplace=True)\n"
      ],
      "metadata": {
        "colab": {
          "base_uri": "https://localhost:8080/"
        },
        "id": "aDGir9LmJOMw",
        "outputId": "05415544-4b50-4f3b-efe9-b6173b314270"
      },
      "execution_count": 3,
      "outputs": [
        {
          "output_type": "stream",
          "name": "stdout",
          "text": [
            "<class 'pandas.core.frame.DataFrame'>\n",
            "RangeIndex: 200000 entries, 0 to 199999\n",
            "Data columns (total 13 columns):\n",
            " #   Column          Non-Null Count   Dtype  \n",
            "---  ------          --------------   -----  \n",
            " 0   Student ID      180000 non-null  float64\n",
            " 1   Age             180000 non-null  float64\n",
            " 2   Gender          180000 non-null  object \n",
            " 3   Height          180000 non-null  float64\n",
            " 4   Weight          180000 non-null  float64\n",
            " 5   Blood Type      180000 non-null  object \n",
            " 6   BMI             180000 non-null  float64\n",
            " 7   Temperature     180000 non-null  float64\n",
            " 8   Heart Rate      180000 non-null  float64\n",
            " 9   Blood Pressure  180000 non-null  float64\n",
            " 10  Cholesterol     180000 non-null  float64\n",
            " 11  Diabetes        180000 non-null  object \n",
            " 12  Smoking         180000 non-null  object \n",
            "dtypes: float64(9), object(4)\n",
            "memory usage: 19.8+ MB\n",
            "None\n",
            "Null values:\n",
            " Student ID        20000\n",
            "Age               20000\n",
            "Gender            20000\n",
            "Height            20000\n",
            "Weight            20000\n",
            "Blood Type        20000\n",
            "BMI               20000\n",
            "Temperature       20000\n",
            "Heart Rate        20000\n",
            "Blood Pressure    20000\n",
            "Cholesterol       20000\n",
            "Diabetes          20000\n",
            "Smoking           20000\n",
            "dtype: int64 \n",
            "\n"
          ]
        },
        {
          "output_type": "stream",
          "name": "stderr",
          "text": [
            "<ipython-input-3-872f8e627d30>:13: FutureWarning: A value is trying to be set on a copy of a DataFrame or Series through chained assignment using an inplace method.\n",
            "The behavior will change in pandas 3.0. This inplace method will never work because the intermediate object on which we are setting values always behaves as a copy.\n",
            "\n",
            "For example, when doing 'df[col].method(value, inplace=True)', try using 'df.method({col: value}, inplace=True)' or df[col] = df[col].method(value) instead, to perform the operation inplace on the original object.\n",
            "\n",
            "\n",
            "  df_filled[col].fillna(df_filled[col].mean(), inplace=True)  # Numerical: mean\n",
            "<ipython-input-3-872f8e627d30>:15: FutureWarning: A value is trying to be set on a copy of a DataFrame or Series through chained assignment using an inplace method.\n",
            "The behavior will change in pandas 3.0. This inplace method will never work because the intermediate object on which we are setting values always behaves as a copy.\n",
            "\n",
            "For example, when doing 'df[col].method(value, inplace=True)', try using 'df.method({col: value}, inplace=True)' or df[col] = df[col].method(value) instead, to perform the operation inplace on the original object.\n",
            "\n",
            "\n",
            "  df_filled[col].fillna(df_filled[col].mode()[0], inplace=True)  # Categorical: mode\n"
          ]
        },
        {
          "output_type": "stream",
          "name": "stdout",
          "text": [
            "Number of duplicate rows: 12572 \n",
            "\n"
          ]
        }
      ]
    },
    {
      "cell_type": "markdown",
      "source": [
        "Dataset Used: \"titanic.csv\"\n",
        "\n",
        "Problem - 1:\n",
        "\n",
        "Create a DataFrame that is subsetted for the columns ’Name’, ’Pclass’, ’Sex’, ’Age’, ’Fare’, and ’Survived’.\n",
        "Retain only those rows where ’Pclass’ is equal to 1, representing first-class passengers. What is the mean,\n",
        "median, maximum value, and minimum value of the ’Fare’ column?\n",
        "\n"
      ],
      "metadata": {
        "id": "n2KtPoslIW9x"
      }
    },
    {
      "cell_type": "code",
      "source": [
        "# Load dataset\n",
        "df_titanic = pd.read_csv(\"/content/drive/MyDrive/Colab Notebooks/Datasets/Datasets/Titanic-Dataset.csv\")\n",
        "\n",
        "# Subset and filter for first-class passengers\n",
        "subset = df_titanic[['Name', 'Pclass', 'Sex', 'Age', 'Fare', 'Survived']]\n",
        "first_class = subset[subset['Pclass'] == 1]\n",
        "\n",
        "# Statistics for Fare\n",
        "print(\"Fare statistics:\")\n",
        "print(\"Mean:\", first_class['Fare'].mean())\n",
        "print(\"Median:\", first_class['Fare'].median())\n",
        "print(\"Max:\", first_class['Fare'].max())\n",
        "print(\"Min:\", first_class['Fare'].min())"
      ],
      "metadata": {
        "colab": {
          "base_uri": "https://localhost:8080/"
        },
        "id": "_81m6ugEJdvb",
        "outputId": "4efca99b-7777-489f-b09d-105454554efa"
      },
      "execution_count": 4,
      "outputs": [
        {
          "output_type": "stream",
          "name": "stdout",
          "text": [
            "Fare statistics:\n",
            "Mean: 84.1546875\n",
            "Median: 60.287499999999994\n",
            "Max: 512.3292\n",
            "Min: 0.0\n"
          ]
        }
      ]
    },
    {
      "cell_type": "markdown",
      "source": [
        "Problem - 2:\n",
        "\n",
        "How many null values are contained in the ’Age’ column in your subsetted DataFrame? Once you’ve found\n",
        "this out, drop them from your DataFrame.\n",
        "\n"
      ],
      "metadata": {
        "id": "-ZwLc1p5JW7z"
      }
    },
    {
      "cell_type": "code",
      "source": [
        "\n",
        "# Null values in Age and drop rows\n",
        "print(\"Null values in Age:\", first_class['Age'].isnull().sum())\n",
        "first_class = first_class.dropna(subset=['Age'])\n"
      ],
      "metadata": {
        "colab": {
          "base_uri": "https://localhost:8080/"
        },
        "id": "XE5T2kFOJe9g",
        "outputId": "f32add72-b7e4-404f-da28-a26b329185db"
      },
      "execution_count": 5,
      "outputs": [
        {
          "output_type": "stream",
          "name": "stdout",
          "text": [
            "Null values in Age: 30\n"
          ]
        }
      ]
    },
    {
      "cell_type": "markdown",
      "source": [
        "Problem - 3:\n",
        "\n",
        "The ’Embarked’ column in the Titanic dataset contains categorical data representing the ports of embarka-\n",
        "tion:\n",
        "\n",
        "\n",
        "• ’C’ for Cherbourg\n",
        "\n",
        "• ’Q’ for Queenstown\n",
        "\n",
        "• ’S’ for Southampton\n",
        "\n",
        "Task:\n",
        "1. Use one-hot encoding to convert the ’Embarked’ column into separate binary columns (’Embarked C’,\n",
        "’Embarked Q’, ’Embarked S’).\n",
        "\n",
        "2. Add these new columns to the original DataFrame.\n",
        "\n",
        "3. Drop the original ’Embarked’ column.\n",
        "\n",
        "4. Print the first few rows of the modified DataFrame to verify the changes.\n"
      ],
      "metadata": {
        "id": "fAZ8NpmTJWuA"
      }
    },
    {
      "cell_type": "code",
      "source": [
        "\n",
        "# One-hot encoding for Embarked\n",
        "df_titanic_encoded = pd.get_dummies(df_titanic, columns=['Embarked'], prefix='Embarked')\n",
        "\n",
        "# Compare survival rates by gender\n",
        "gender_survival = df_titanic.groupby('Sex')['Survived'].mean()\n",
        "print(\"Survival rates by gender:\\n\", gender_survival)"
      ],
      "metadata": {
        "colab": {
          "base_uri": "https://localhost:8080/"
        },
        "id": "yftkED7oJgXn",
        "outputId": "29b7e779-7799-4793-f33b-a297238590b6"
      },
      "execution_count": 6,
      "outputs": [
        {
          "output_type": "stream",
          "name": "stdout",
          "text": [
            "Survival rates by gender:\n",
            " Sex\n",
            "female    0.742038\n",
            "male      0.188908\n",
            "Name: Survived, dtype: float64\n"
          ]
        }
      ]
    },
    {
      "cell_type": "markdown",
      "source": [
        "Problem - 4:\n",
        "\n",
        "\n",
        "Compare the mean survival rates (’Survived’) for the different groups in the ’Sex’ column. Draw a visual-\n",
        "ization to show how the survival distributions vary by gender."
      ],
      "metadata": {
        "id": "sI0IToFMIXDg"
      }
    },
    {
      "cell_type": "code",
      "source": [
        "\n",
        "# Plot survival rates by gender\n",
        "import matplotlib.pyplot as plt\n",
        "gender_survival.plot(kind='bar', title='Survival Rates by Gender', ylabel='Survival Rate')\n",
        "plt.show()\n",
        "\n",
        "# Compare survival rates by port\n",
        "port_survival = df_titanic.groupby('Embarked')['Survived'].mean()\n",
        "print(\"Survival rates by port:\\n\", port_survival)"
      ],
      "metadata": {
        "colab": {
          "base_uri": "https://localhost:8080/",
          "height": 610
        },
        "id": "6rJ87GN5Jg5e",
        "outputId": "50e58685-47d9-4ebd-a184-cf5ad9916113"
      },
      "execution_count": 7,
      "outputs": [
        {
          "output_type": "display_data",
          "data": {
            "text/plain": [
              "<Figure size 640x480 with 1 Axes>"
            ],
            "image/png": "[encoded data removed]"
          },
          "metadata": {}
        },
        {
          "output_type": "stream",
          "name": "stdout",
          "text": [
            "Survival rates by port:\n",
            " Embarked\n",
            "C    0.553571\n",
            "Q    0.389610\n",
            "S    0.336957\n",
            "Name: Survived, dtype: float64\n"
          ]
        }
      ]
    },
    {
      "cell_type": "markdown",
      "source": [
        "Problem - 5:\n",
        "\n",
        "\n",
        "Draw a visualization that breaks your visualization from Exercise 3 down by the port of embarkation (’Em-\n",
        "barked’). In this instance, compare the ports ’C’ (Cherbourg), ’Q’ (Queenstown), and ’S’ (Southampton)."
      ],
      "metadata": {
        "id": "BAoRwFyiIXI4"
      }
    },
    {
      "cell_type": "code",
      "execution_count": 8,
      "metadata": {
        "id": "XVyC_XJ7A-t7",
        "colab": {
          "base_uri": "https://localhost:8080/",
          "height": 469
        },
        "outputId": "151ef2d4-75c9-4ad8-a433-d68a3e3662c7"
      },
      "outputs": [
        {
          "output_type": "display_data",
          "data": {
            "text/plain": [
              "<Figure size 640x480 with 1 Axes>"
            ],
            "image/png": "[encoded data removed]"
          },
          "metadata": {}
        }
      ],
      "source": [
        "# Plot survival rates by port\n",
        "port_survival.plot(kind='bar', title='Survival Rates by Port', ylabel='Survival Rate', color='pink')\n",
        "plt.legend()\n",
        "plt.show()"
      ]
    }
  ]
}