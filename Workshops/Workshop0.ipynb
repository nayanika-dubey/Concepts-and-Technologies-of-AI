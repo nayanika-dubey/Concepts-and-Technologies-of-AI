{
 "cells": [
  {
   "cell_type": "markdown",
   "id": "27b2ac77",
   "metadata": {},
   "source": [
    "# Workshop 1"
   ]
  },
  {
   "cell_type": "markdown",
   "id": "ac6f8130",
   "metadata": {},
   "source": [
    "### Student Name: Nayanika Dubey \n",
    "### Student ID: 2408008"
   ]
  },
  {
   "cell_type": "code",
   "execution_count": 1,
   "id": "ce9cef7d",
   "metadata": {},
   "outputs": [],
   "source": [
    "import matplotlib.pyplot as plt\n",
    "import numpy as np"
   ]
  },
  {
   "cell_type": "markdown",
   "id": "41cd9158",
   "metadata": {},
   "source": [
    "##### Data Types - Numeric"
   ]
  },
  {
   "cell_type": "code",
   "execution_count": 2,
   "id": "efa9b8d5",
   "metadata": {},
   "outputs": [
    {
     "name": "stdout",
     "output_type": "stream",
     "text": [
      "data type of variable age =  <class 'int'>\n",
      "data type of variable pi =  <class 'float'>\n",
      "data type of variable temperature =  <class 'float'>\n"
     ]
    }
   ],
   "source": [
    "age = 23 #int\n",
    "pi = 3.14 #float\n",
    "temperature = -5.5 #float\n",
    "print(\"data type of variable age = \", type(age))\n",
    "print(\"data type of variable pi = \", type(pi))\n",
    "print(\"data type of variable temperature = \", type(temperature))"
   ]
  },
  {
   "cell_type": "markdown",
   "id": "788a2ef6",
   "metadata": {},
   "source": [
    "##### Data Types - Sequences - String"
   ]
  },
  {
   "cell_type": "code",
   "execution_count": 5,
   "id": "1452ba4c",
   "metadata": {},
   "outputs": [
    {
     "name": "stdout",
     "output_type": "stream",
     "text": [
      "data type of the variable name =  <class 'str'>\n",
      "data type of the variable greeting =  <class 'str'>\n",
      "data type of the variable address =  <class 'str'>\n",
      "The first letter of the name is: A\n",
      "The last letter of the name is: e\n",
      "The second letter to the fourth of the name is: lic\n",
      "The first two letters of the name are: Al\n",
      "Substring starting from the third letter is: ice\n"
     ]
    }
   ],
   "source": [
    "name = \"Alice\"\n",
    "greeting = 'Hello'\n",
    "address = \"123 Main St\"\n",
    "print(\"data type of the variable name = \",type(name))\n",
    "print(\"data type of the variable greeting = \",type(greeting))\n",
    "print(\"data type of the variable address = \",type(address))\n",
    "# slice only one element\n",
    "print(\"The first letter of the name is:\", name[0])\n",
    "print(\"The last letter of the name is:\", name[-1])\n",
    "# slice a range of elements\n",
    "print(\"The second letter to the fourth of the name is:\", name[1:4])\n",
    "print(\"The first two letters of the name are:\", name[:2])\n",
    "print(\"Substring starting from the third letter is:\", name[2:])"
   ]
  },
  {
   "cell_type": "markdown",
   "id": "e792f55a",
   "metadata": {},
   "source": [
    "##### Data Types - Sequences - List"
   ]
  },
  {
   "cell_type": "code",
   "execution_count": 6,
   "id": "8546bebc",
   "metadata": {},
   "outputs": [
    {
     "data": {
      "text/plain": [
       "[False, 'Hello', True]"
      ]
     },
     "execution_count": 6,
     "metadata": {},
     "output_type": "execute_result"
    }
   ],
   "source": [
    "list1 = [1, 2, 3, 4]\n",
    "mixed_list = [12, \"Hello\", True]\n",
    "# List is mutable\n",
    "mixed_list[0] = False\n",
    "mixed_list"
   ]
  },
  {
   "cell_type": "markdown",
   "id": "b2118448",
   "metadata": {},
   "source": [
    "##### Data Types - Sequences - Tuple"
   ]
  },
  {
   "cell_type": "code",
   "execution_count": 9,
   "id": "0a404799",
   "metadata": {},
   "outputs": [
    {
     "name": "stdout",
     "output_type": "stream",
     "text": [
      "First element: red\n",
      "Last two elements: ('yellow', 'blue')\n",
      "Middle two elements: ('green', 'yellow')\n"
     ]
    },
    {
     "ename": "TypeError",
     "evalue": "'tuple' object does not support item assignment",
     "output_type": "error",
     "traceback": [
      "\u001b[1;31m---------------------------------------------------------------------------\u001b[0m",
      "\u001b[1;31mTypeError\u001b[0m                                 Traceback (most recent call last)",
      "Cell \u001b[1;32mIn[9], line 5\u001b[0m\n\u001b[0;32m      3\u001b[0m \u001b[38;5;28mprint\u001b[39m(\u001b[38;5;124m\"\u001b[39m\u001b[38;5;124mLast two elements:\u001b[39m\u001b[38;5;124m\"\u001b[39m, colors[\u001b[38;5;241m2\u001b[39m:])\n\u001b[0;32m      4\u001b[0m \u001b[38;5;28mprint\u001b[39m(\u001b[38;5;124m\"\u001b[39m\u001b[38;5;124mMiddle two elements:\u001b[39m\u001b[38;5;124m\"\u001b[39m, colors[\u001b[38;5;241m1\u001b[39m:\u001b[38;5;241m3\u001b[39m])\n\u001b[1;32m----> 5\u001b[0m colors[\u001b[38;5;241m0\u001b[39m] \u001b[38;5;241m=\u001b[39m\u001b[38;5;124m'\u001b[39m\u001b[38;5;124mpurple\u001b[39m\u001b[38;5;124m'\u001b[39m\n\u001b[0;32m      6\u001b[0m colors\n",
      "\u001b[1;31mTypeError\u001b[0m: 'tuple' object does not support item assignment"
     ]
    }
   ],
   "source": [
    "colors = ('red', 'green', 'yellow', 'blue')\n",
    "print(\"First element:\", colors[0])\n",
    "print(\"Last two elements:\", colors[2:])\n",
    "print(\"Middle two elements:\", colors[1:3])\n",
    "colors[0] ='purple'\n",
    "colors # will generate an error as tuple is immutable."
   ]
  },
  {
   "cell_type": "code",
   "execution_count": 15,
   "id": "8e87661a",
   "metadata": {},
   "outputs": [
    {
     "name": "stdout",
     "output_type": "stream",
     "text": [
      "First element: red\n",
      "Last two elements: ('yellow', 'blue')\n",
      "Middle two elements: ('green', 'yellow')\n"
     ]
    },
    {
     "data": {
      "text/plain": [
       "['purple', 'red', 'green', 'yellow', 'blue']"
      ]
     },
     "execution_count": 15,
     "metadata": {},
     "output_type": "execute_result"
    }
   ],
   "source": [
    "#corrected code\n",
    "colors = ('red', 'green', 'yellow', 'blue')\n",
    "print(\"First element:\", colors[0])\n",
    "print(\"Last two elements:\", colors[2:])\n",
    "print(\"Middle two elements:\", colors[1:3])\n",
    "list_colors = list(colors)\n",
    "list_colors.insert(0, 'purple')\n",
    "added_tuple = tuple(list_colors)\n",
    "list_colors"
   ]
  },
  {
   "cell_type": "markdown",
   "id": "7d542b6c",
   "metadata": {},
   "source": [
    "##### Data Types - Sequence - Dict"
   ]
  },
  {
   "cell_type": "code",
   "execution_count": 20,
   "id": "0457a0ae",
   "metadata": {},
   "outputs": [
    {
     "name": "stdout",
     "output_type": "stream",
     "text": [
      "Hello my name is John. I am 30 years old and I live at Pittsburgh.\n",
      "All keys: ['name', 'age', 'city']\n",
      "All values: ['John', 30, 'Pittsburgh']\n"
     ]
    }
   ],
   "source": [
    "person = {'name':'John','age':30,'city':'Pittsburgh'}\n",
    "print(f\"Hello my name is {person['name']}. I am {person['age']} years old and I live at {person['city']}.\")\n",
    "print(\"All keys:\", list(person.keys()))\n",
    "print(\"All values:\", list(person.values()))"
   ]
  },
  {
   "cell_type": "markdown",
   "id": "2408e53f",
   "metadata": {},
   "source": [
    "###### Data Types - Set"
   ]
  },
  {
   "cell_type": "code",
   "execution_count": 21,
   "id": "3fbf310c",
   "metadata": {},
   "outputs": [
    {
     "name": "stdout",
     "output_type": "stream",
     "text": [
      "{1, 2, 3, 4, 5}\n"
     ]
    }
   ],
   "source": [
    "unique_numbers = {1,2,3,3,3,3,4,5}\n",
    "print(unique_numbers)"
   ]
  },
  {
   "cell_type": "markdown",
   "id": "d6f1164d",
   "metadata": {},
   "source": [
    "##### Data Types - Boolean"
   ]
  },
  {
   "cell_type": "code",
   "execution_count": 22,
   "id": "25bbd52a",
   "metadata": {},
   "outputs": [
    {
     "name": "stdout",
     "output_type": "stream",
     "text": [
      "data type of the variable is_student =  <class 'bool'>\n",
      "data type of the variable has_license =  <class 'bool'>\n"
     ]
    }
   ],
   "source": [
    "is_student = True\n",
    "has_license = False\n",
    "print(\"data type of the variable is_student = \",type(is_student))\n",
    "print(\"data type of the variable has_license = \",type(has_license))"
   ]
  },
  {
   "cell_type": "markdown",
   "id": "f61712f2",
   "metadata": {},
   "source": [
    "##### Data Types - Special"
   ]
  },
  {
   "cell_type": "code",
   "execution_count": 23,
   "id": "b162e137",
   "metadata": {},
   "outputs": [],
   "source": [
    "result = None"
   ]
  },
  {
   "cell_type": "markdown",
   "id": "8e763264",
   "metadata": {},
   "source": [
    "##### Logical Statements - If-else Statements"
   ]
  },
  {
   "cell_type": "code",
   "execution_count": 25,
   "id": "ceddf22b",
   "metadata": {},
   "outputs": [
    {
     "name": "stdout",
     "output_type": "stream",
     "text": [
      "Positive\n"
     ]
    }
   ],
   "source": [
    "num = 10\n",
    "if num > 0:\n",
    "    print(\"Positive\")\n",
    "elif num == 0:\n",
    "    print(\"Zero\")\n",
    "else:\n",
    "    print(\"Non-positive\")"
   ]
  },
  {
   "cell_type": "markdown",
   "id": "00a2091a",
   "metadata": {},
   "source": [
    "##### Comparision Operator"
   ]
  },
  {
   "cell_type": "code",
   "execution_count": 27,
   "id": "5b0a95ab",
   "metadata": {},
   "outputs": [
    {
     "name": "stdout",
     "output_type": "stream",
     "text": [
      "Both conditions are true\n",
      "At least one condition is true\n",
      "x is not equal to 0\n"
     ]
    }
   ],
   "source": [
    "x = 5\n",
    "y = 10\n",
    "if x > 0 and y < 20:\n",
    "    print(\"Both conditions are true\")\n",
    "if x > 0 or y > 20:\n",
    "    print(\"At least one condition is true\")\n",
    "if not x == 0:\n",
    "    print(\"x is not equal to 0\")"
   ]
  },
  {
   "cell_type": "markdown",
   "id": "3227c5f3",
   "metadata": {},
   "source": [
    "##### Logical Operator"
   ]
  },
  {
   "cell_type": "code",
   "execution_count": 28,
   "id": "406d5748",
   "metadata": {},
   "outputs": [
    {
     "name": "stdout",
     "output_type": "stream",
     "text": [
      "Either a or b is False\n",
      "At least one of a or b is True\n",
      "a is True\n"
     ]
    }
   ],
   "source": [
    "# Define two boolean variables\n",
    "a = True\n",
    "b = False\n",
    "# Using the ’and’ operator\n",
    "if a and b:\n",
    "    print(\"Both a and b are True\")\n",
    "else:\n",
    "    print(\"Either a or b is False\") # This will be printed\n",
    "# Using the ’or’ operator\n",
    "if a or b:\n",
    "    print(\"At least one of a or b is True\") # This will be printed\n",
    "else:\n",
    "    print(\"Both a and b are False\")\n",
    "# Using the ’not’ operator\n",
    "if not a:\n",
    "    print(\"a is False\") # This will not be printed\n",
    "else:\n",
    "    print(\"a is True\") # This will be printed"
   ]
  },
  {
   "cell_type": "markdown",
   "id": "c0038108",
   "metadata": {},
   "source": [
    "##### Loops"
   ]
  },
  {
   "cell_type": "code",
   "execution_count": 29,
   "id": "ee87ecd8",
   "metadata": {},
   "outputs": [
    {
     "name": "stdout",
     "output_type": "stream",
     "text": [
      "apple\n",
      "banana\n",
      "cherry\n",
      "Count is: 0\n",
      "Count is: 1\n",
      "Count is: 2\n",
      "Count is: 3\n",
      "Count is: 4\n",
      "loop 1\n",
      "apple\n"
     ]
    }
   ],
   "source": [
    "# for loop:\n",
    "fruits = [\"apple\", \"banana\",\"cherry\"]\n",
    "for fruit in fruits:\n",
    "    print(fruit)\n",
    "# While loop:\n",
    "count = 0\n",
    "while count < 5:\n",
    "    print(\"Count is:\", count)\n",
    "    count += 1\n",
    "# Break\n",
    "fruits = [\"apple\", \"banana\", \"orange\"]\n",
    "print(\"loop 1\")\n",
    "for fruit in fruits:\n",
    "    print(fruit)\n",
    "    if fruit == \"apple\":\n",
    "        break\n",
    "# Continiue\n",
    "    print(\"loop 2\")\n",
    "    for fruit in fruits:\n",
    "        if fruit == \"apple\":\n",
    "            continue\n",
    "        else:\n",
    "            print(fruit)"
   ]
  },
  {
   "cell_type": "markdown",
   "id": "87c45686",
   "metadata": {},
   "source": [
    "##### Functions"
   ]
  },
  {
   "cell_type": "code",
   "execution_count": 36,
   "id": "2c3f8734",
   "metadata": {},
   "outputs": [],
   "source": [
    "def add_binary(a, b):\n",
    "    '''\n",
    "    Returns the sum of two decimal numbers in binary digits.\n",
    "    Parameters:\n",
    "        a (int): A decimal integer\n",
    "        b (int): Another decimal integer\n",
    "    Returns:\n",
    "        binary_sum (str): Binary string of the sum of a and b\n",
    "    '''\n",
    "    binary_sum = bin(a+b)[2:]\n",
    "    return binary_sum"
   ]
  },
  {
   "cell_type": "markdown",
   "id": "af14ca42",
   "metadata": {},
   "source": [
    "##### Built-in Functions"
   ]
  },
  {
   "cell_type": "code",
   "execution_count": 37,
   "id": "bf9e041f",
   "metadata": {},
   "outputs": [
    {
     "name": "stdout",
     "output_type": "stream",
     "text": [
      "Hello, World!\n"
     ]
    }
   ],
   "source": [
    "print(\"Hello, World!\") # Output: Hello, World!\n",
    "length = len(\"Hello\") # Output: 5\n",
    "data_type = type(42) # Output: <class ’int’>\n",
    "total = sum([1, 2, 3]) # Output: 6"
   ]
  },
  {
   "cell_type": "markdown",
   "id": "d4493308",
   "metadata": {},
   "source": [
    "##### Built-in Methods"
   ]
  },
  {
   "cell_type": "code",
   "execution_count": 38,
   "id": "bf8d11e5",
   "metadata": {},
   "outputs": [],
   "source": [
    "# str.upper(): Converts all characters in a string to uppercase.\n",
    "message = \"hello\".upper() # Output: \"HELLO\"\n",
    "# list.append(): Adds an element to the end of a list.\n",
    "fruits = [\"apple\", \"banana\"]\n",
    "fruits.append(\"cherry\") # Output: [\"apple\", \"banana\", \"cherry\"]\n",
    "# dict.get(): Returns the value associated with a key in a dictionary.\n",
    "info = {\"name\": \"Alice\", \"age\": 25}\n",
    "age = info.get(\"age\") # Output: 25"
   ]
  },
  {
   "cell_type": "markdown",
   "id": "a759c1c4",
   "metadata": {},
   "source": [
    "##### User-Defined Functions"
   ]
  },
  {
   "cell_type": "code",
   "execution_count": 40,
   "id": "6cfd155f",
   "metadata": {},
   "outputs": [
    {
     "name": "stdout",
     "output_type": "stream",
     "text": [
      "Choose conversion type:\n",
      "1. Celsius to Fahrenheit\n",
      "2. Fahrenheit to Celsius\n",
      "Enter 1 or 2: 2\n",
      "Enter temperature in Fahrenheit: 68\n",
      "68.0F is equal to 20.0C\n"
     ]
    },
    {
     "data": {
      "text/plain": [
       "20.0"
      ]
     },
     "execution_count": 40,
     "metadata": {},
     "output_type": "execute_result"
    }
   ],
   "source": [
    "def temperature_converter():\n",
    "    \"\"\"\n",
    "    Converts temperature between Celsius and Fahrenheit.\n",
    "    This function prompts the user to specify the conversion type (Celsius to Fahrenheit\n",
    "    or Fahrenheit to Celsius)\n",
    "    and then asks for the temperature value. It calculates and returns the converted\n",
    "    temperature.\n",
    "    Returns:\n",
    "    float: The converted temperature value.\n",
    "    \"\"\"\n",
    "    print(\"Choose conversion type:\")\n",
    "    print(\"1. Celsius to Fahrenheit\")\n",
    "    print(\"2. Fahrenheit to Celsius\")\n",
    "    # Get conversion choice from user\n",
    "    choice = input(\"Enter 1 or 2: \")\n",
    "    if choice == \"1\":\n",
    "        # Celsius to Fahrenheit conversion\n",
    "        celsius = float(input(\"Enter temperature in Celsius: \"))\n",
    "        fahrenheit = (celsius * 9/5) + 32\n",
    "        print(f\"{celsius}C is equal to {fahrenheit}F\")\n",
    "        return fahrenheit\n",
    "    elif choice == \"2\":\n",
    "        # Fahrenheit to Celsius conversion\n",
    "        fahrenheit = float(input(\"Enter temperature in Fahrenheit: \"))\n",
    "        celsius = (fahrenheit - 32) * 5/9\n",
    "        print(f\"{fahrenheit}F is equal to {celsius}C\")\n",
    "        return celsius\n",
    "    else:\n",
    "        print(\"Invalid choice. Please enter 1 or 2.\")\n",
    "        return None\n",
    "# Call the function\n",
    "temperature_converter()"
   ]
  },
  {
   "cell_type": "markdown",
   "id": "9db95fcc",
   "metadata": {},
   "source": [
    "##### Try... Except... Exception Handling"
   ]
  },
  {
   "cell_type": "code",
   "execution_count": 41,
   "id": "a1d2e06e",
   "metadata": {},
   "outputs": [
    {
     "name": "stdout",
     "output_type": "stream",
     "text": [
      "Enter a number: 5\n",
      "Result: 2.0\n"
     ]
    }
   ],
   "source": [
    "try:\n",
    "    num = int(input(\"Enter a number: \"))\n",
    "    print(\"Result:\", 10 / num)\n",
    "except ZeroDivisionError:\n",
    "    print(\"Cannot divide by zero.\")\n",
    "except ValueError:\n",
    "    print(\"Invalid input. Please enter a number.\")"
   ]
  },
  {
   "cell_type": "markdown",
   "id": "0cd70d64",
   "metadata": {},
   "source": [
    "##### Try... Except... Finally... Exception Handling"
   ]
  },
  {
   "cell_type": "code",
   "execution_count": null,
   "id": "528f7a6f",
   "metadata": {},
   "outputs": [],
   "source": [
    "#Do not run\n",
    "try:\n",
    "    file = open(\"example.txt\", \"r\")\n",
    "    data = file.read()\n",
    "except FileNotFoundError:\n",
    "    print(\"File not found.\")\n",
    "finally:\n",
    "    file.close() # Ensures the file is closed"
   ]
  },
  {
   "cell_type": "markdown",
   "id": "e13b464c",
   "metadata": {},
   "source": [
    "##### Custom Execeptions"
   ]
  },
  {
   "cell_type": "code",
   "execution_count": 45,
   "id": "393ed66e",
   "metadata": {},
   "outputs": [
    {
     "name": "stdout",
     "output_type": "stream",
     "text": [
      "Age cannot be negative.\n"
     ]
    }
   ],
   "source": [
    "def check_age(age):\n",
    "    if age < 0:\n",
    "        raise ValueError(\"Age cannot be negative.\")\n",
    "    else:\n",
    "        print(\"Valid age\")\n",
    "try:\n",
    "    check_age(-1)\n",
    "except ValueError as e:\n",
    "    print(e)"
   ]
  },
  {
   "cell_type": "markdown",
   "id": "55177dd7",
   "metadata": {},
   "source": [
    "#### To - Do Tasks"
   ]
  },
  {
   "cell_type": "markdown",
   "id": "cf719899",
   "metadata": {},
   "source": [
    "Task 1. Classify Temperatures: \n",
    "1. Create empty lists for temperature classifications:\n",
    "    (a) Cold: temperatures below 10°C.\n",
    "    (b) Mild: temperatures between 10°C and 15°C.\n",
    "    (c) Comfortable: temperatures between 15°C and 20°C.\n",
    "\n",
    "2. Iterate over the temperatures list and add each temperature to the appropriate category.\n",
    "\n",
    "3. Print the lists to verify the classifications.\n",
    "\n",
    "Task 2. Based on Data - Answer all the Questions:\n",
    "1. How many times was it mild?\n",
    "    (a) Hint: Count the number of items in the mild list and print the result.\n",
    "2. How many times was it comfortable?\n",
    "3. How many times was it cold?\n",
    "\n",
    "Task 3. Convert Temperatures from Celsius to Fahrenheit\n",
    "\n",
    "Using the formula for temperature conversion, convert each reading from Celsius to Fahren-\n",
    "heit and store it in a new list called temperatures_fahrenheit.\n",
    "\n",
    "Formula: Fahrenheit = (Celsius × 9/ 5) + 32\n",
    "\n",
    "1. Iterate over the temperatures list and apply the formula to convert each temperature.\n",
    "2. Store the results in the new list.\n",
    "3. Print the converted Fahrenheit values.\n",
    "\n",
    "Task 4. Analyze Temperature Patterns by Time of Day:\n",
    "Scenario: Each day’s readings are grouped as:\n",
    "    • Night (00-08),\n",
    "    • Evening (08-16),\n",
    "    • Day (16-24).\n",
    "1. Create empty lists for night, day, and evening temperatures.\n",
    "2. Iterate over the temperatures list, assigning values to each time-of-day list based on\n",
    "their position.\n",
    "3. Calculate and print the average day-time temperature.\n",
    "4. (Optional) Plot ”day vs. temperature” using matplotlib."
   ]
  },
  {
   "cell_type": "code",
   "execution_count": 72,
   "id": "eaa97344",
   "metadata": {},
   "outputs": [
    {
     "name": "stdout",
     "output_type": "stream",
     "text": [
      "Cold temperatures:  [8.2, 7.9, 9.0, 8.5, 7.7, 8.4, 9.5, 8.1, 7.6, 8.0, 7.8, 8.7, 9.2, 8.3, 8.9, 7.8]\n",
      "Mild temperatures:  [14.1, 13.5, 13.0, 12.9, 13.3, 14.0, 13.4, 14.2, 12.8, 13.7, 13.6, 13.8, 13.9, 12.7, 13.1, 12.5]\n",
      "Comfortable temperatures:  [17.4, 18.0, 17.8, 16.5, 17.2, 16.7, 18.3, 17.9, 17.0, 16.8, 17.5, 17.1, 18.1, 16.4, 18.2, 16.6]\n",
      "\n",
      "Number of times cold temperatures were faced:  16\n",
      "Number of times mild temperatures were faced:  16\n",
      "Number of times comfortable temperatures were faced:  16\n",
      "\n",
      "Temperatures in Fahrenheit: [46.76, 63.32, 57.379999999999995, 46.22, 64.4, 56.3, 48.2, 64.04, 55.4, 47.3, 61.7, 55.22, 45.86, 62.959999999999994, 55.94, 47.120000000000005, 62.059999999999995, 57.2, 49.1, 64.94, 56.120000000000005, 46.58, 64.22, 57.56, 45.68, 62.6, 55.04, 46.4, 62.24, 56.66, 46.04, 63.5, 56.48, 47.66, 62.78, 56.84, 48.56, 64.58, 57.02, 46.94, 61.519999999999996, 54.86, 48.02, 64.75999999999999, 55.58, 46.04, 61.88, 54.5]\n",
      "\n",
      "Average Day-Time Temperature: 17.50°C\n"
     ]
    }
   ],
   "source": [
    "# Given data in the form of list\n",
    "temperatures = [8.2, 17.4, 14.1, 7.9, 18.0, 13.5, 9.0, 17.8, 13.0, 8.5,\n",
    "    16.5, 12.9, 7.7, 17.2, 13.3, 8.4, 16.7, 14.0, 9.5, 18.3, \n",
    "    13.4, 8.1, 17.9, 14.2, 7.6, 17.0, 12.8, 8.0, 16.8, 13.7, \n",
    "    7.8, 17.5, 13.6, 8.7, 17.1, 13.8, 9.2, 18.1, 13.9, 8.3, \n",
    "    16.4, 12.7, 8.9, 18.2, 13.1, 7.8, 16.6, 12.5]\n",
    "\n",
    "# Empty Lists in different categories\n",
    "cold = []  # below 10°C\n",
    "mild = []  # between 10°C and 15°C\n",
    "comfortable = []  # between 15°C and 20°C\n",
    "\n",
    "# Categorizing based on criteria\n",
    "for temperature in temperatures:\n",
    "    if temperature < 10:\n",
    "        cold.append(temperature)\n",
    "    elif 10 <= temperature < 15:\n",
    "        mild.append(temperature)\n",
    "    elif 15 <= temperature < 20:\n",
    "        comfortable.append(temperature)\n",
    "\n",
    "# Displaying Results\n",
    "print(\"Cold temperatures: \", cold)\n",
    "print(\"Mild temperatures: \", mild)\n",
    "print(\"Comfortable temperatures: \", comfortable)\n",
    "\n",
    "#Displaying the count\n",
    "print()\n",
    "print(\"Number of times cold temperatures were faced: \", len(cold))\n",
    "print(\"Number of times mild temperatures were faced: \", len(mild))\n",
    "print(\"Number of times comfortable temperatures were faced: \", len(comfortable))\n",
    "\n",
    "# Empty list for fahrenheit data\n",
    "temperatures_in_fahrenheit = []\n",
    "\n",
    "# Converting based on given formula\n",
    "for temperature in temperatures:\n",
    "    fahrenheit = (temperature * 9 / 5) + 32\n",
    "    temperatures_in_fahrenheit.append(fahrenheit)\n",
    "\n",
    "# Displaying Fahrenheit values\n",
    "print()\n",
    "print(\"Temperatures in Fahrenheit:\", temperatures_in_fahrenheit)\n",
    "\n",
    "# Empty lists for night, evening, and day\n",
    "night_temperatures = []\n",
    "evening_temperatures = []\n",
    "day_temperatures = []\n",
    "\n",
    "# Categorizing\n",
    "for temperature in temperatures:\n",
    "    if temperature in range(0,8): \n",
    "        night_temperatures.append(temperature)\n",
    "    elif temperature in range(8,16):\n",
    "        evening_temperatures.append(temperature)\n",
    "    elif temperature in range(16,24): \n",
    "        day_temperatures.append(temperature)\n",
    "\n",
    "# Average day-time temperature\n",
    "average_day_temperature = sum(day_temperatures) / len(day_temperatures)\n",
    "\n",
    "# Displaying the average temperature\n",
    "print()\n",
    "print(f\"Average Day-Time Temperature: {average_day_temperature:.2f}°C\")\n"
   ]
  },
  {
   "cell_type": "markdown",
   "id": "bf8297eb",
   "metadata": {},
   "source": [
    "##### Recursion"
   ]
  },
  {
   "cell_type": "markdown",
   "id": "a58a7ef1",
   "metadata": {},
   "source": [
    "##### Sample Recursion"
   ]
  },
  {
   "cell_type": "code",
   "execution_count": 55,
   "id": "68c6a3b5",
   "metadata": {},
   "outputs": [],
   "source": [
    "def factorial(n):\n",
    "    \"\"\"\n",
    "    Calculate the factorial of a non-negative integer n.\n",
    "    The factorial of a number n (denoted n!) is the product of all positive integers less\n",
    "    than or equal to n.\n",
    "    Specifically:\n",
    "    - If n is 0, the factorial is defined as 1 (base case).\n",
    "    - For any positive integer n, the factorial is calculated recursively as n * (n-1)\n",
    "    * (n-2) * ... * 1.\n",
    "    Args:\n",
    "    n (int): A non-negative integer for which to calculate the factorial.\n",
    "    Returns:\n",
    "    int: The factorial of the input number n.\n",
    "    Raises:\n",
    "    ValueError: If the input n is a negative integer, as factorial is only defined for\n",
    "    non-negative integers.\n",
    "    \"\"\"\n",
    "    if n == 0: # Base case\n",
    "        return 1\n",
    "    else: # Recursive case\n",
    "        return n * factorial(n - 1)"
   ]
  },
  {
   "cell_type": "markdown",
   "id": "f9dfe1e3",
   "metadata": {},
   "source": [
    "###### Exercises - Recursion"
   ]
  },
  {
   "cell_type": "markdown",
   "id": "567ae095",
   "metadata": {},
   "source": [
    "Task 1 - Sum of Nested Lists: <br>\n",
    "Scenario: You have a list that contains numbers and other lists of numbers (nested lists). <br>\n",
    "You want to find the total sum of all the numbers in this structure. <br>\n",
    "<br>\n",
    "Task: <br>\n",
    "• Write a recursive function sum_nested_list(nested_list) that: <br>\n",
    "    1. Takes a nested list (a list that can contain numbers or other lists of numbers) as\n",
    "input. <br>\n",
    "    2. Sums all numbers at every depth level of the list, regardless of how deeply nested\n",
    "the numbers are. <br>\n",
    "• Test the function with a sample nested list, such as <br>\n",
    "    nested_list = [1, [2, [3, 4], 5], 6, [7, 8]]. <br>\n",
    "The result should be the total sum of all the numbers."
   ]
  },
  {
   "cell_type": "code",
   "execution_count": 73,
   "id": "1eaf7f37",
   "metadata": {},
   "outputs": [],
   "source": [
    "#Code Provided\n",
    "def sum_nested_list(nested_list):\n",
    "    \"\"\"\n",
    "    Calculate the sum of all numbers in a nested list.\n",
    "    This function takes a list that may contain integers and other nested lists.\n",
    "    It recursively traverses the list and sums all the integers, no matter how deeply\n",
    "    nested they are.\n",
    "    \n",
    "    Args:\n",
    "    nested_list (list): A list that may contain integers or other lists of integers.\n",
    "    \n",
    "    Returns:\n",
    "    int: The total sum of all integers in the nested list, including those in sublists\n",
    "    \n",
    "    Example:\n",
    "    >>> sum_nested_list([1, [2, [3, 4], 5], 6, [7, 8]])\n",
    "    36\n",
    "    >>> sum_nested_list([1, [2, 3], [4, [5]]])\n",
    "    15\n",
    "    \"\"\"\n",
    "    total = 0\n",
    "    for element in nested_list:\n",
    "        if isinstance(element, list): # Check if the element is a list\n",
    "            total += sum_nested_list(element) # Recursively sum the nested list\n",
    "        else:\n",
    "            total += element # Add the number to the total\n",
    "    return total"
   ]
  },
  {
   "cell_type": "markdown",
   "id": "33546650",
   "metadata": {},
   "source": [
    "Task 2 - Generate All Permutations of a String: <br>\n",
    "Scenario: Given a string, generate all possible permutations of its characters. This is useful for understanding backtracking and recursive depth-first search. <br>\n",
    "<br>\n",
    "Task: <br>\n",
    "• Write a recursive function generate_permutations(s) that: <br>\n",
    "– Takes a string s as input and returns a list of all unique permutations. <br>\n",
    "• Test with strings like ”abc” and ”aab”. <br>\n",
    "<br>\n",
    "print(generate_permutations(\"abc\")) <br>\n",
    "#Should return [’abc’, ’acb’, ’bac’, ’bca’, ’cab’, ’cba’]"
   ]
  },
  {
   "cell_type": "code",
   "execution_count": 74,
   "id": "f5254ef6",
   "metadata": {},
   "outputs": [
    {
     "name": "stdout",
     "output_type": "stream",
     "text": [
      "['bac', 'cab', 'abc', 'bca', 'acb', 'cba']\n",
      "['aba', 'baa', 'aab']\n"
     ]
    }
   ],
   "source": [
    "def generate_permutations(s):\n",
    "    if len(s) <= 1:\n",
    "        return [s]\n",
    "    # if the string has more than 1 character, we premutate over it.\n",
    "    \n",
    "    #empty list to store permutated data\n",
    "    permutations = set()\n",
    "    \n",
    "    # loop through the string\n",
    "    for i in range(len(s)):\n",
    "        #doesn't include the current character and permutes the rest\n",
    "        for perm in generate_permutations(s[:i] + s[i+1:]):\n",
    "            permutations.add(s[i] + perm)\n",
    "    return list(permutations)\n",
    "\n",
    "print(generate_permutations(\"abc\"))\n",
    "# Should return ['abc', 'acb', 'bac', 'bca', 'cab', 'cba'] based on instructions\n",
    "\n",
    "print(generate_permutations(\"aab\"))\n",
    "# Should return ['aab', 'aba', 'baa'] based on instructions\n"
   ]
  },
  {
   "cell_type": "markdown",
   "id": "de64adfe",
   "metadata": {},
   "source": [
    "Task 3 - Directory Size Calculation: <br>\n",
    "Directory Size Calculation Scenario: Imagine a file system where directories can contain files (with sizes in KB) and other directories. You want to calculate the total size of a directory,\n",
    "including all nested files and subdirectories. <br>\n",
    "<br>\n",
    "Task: <br>\n",
    "1. Write a recursive function calculate_directory_size(directory) where: <br>\n",
    "• directory is a dictionary where keys represent file names (with values as sizes in KB) or directory names (with values as another dictionary representing a subdirectory). <br>\n",
    "<br>\n",
    "• The function should return the total size of the directory, including all nested subdirectories. <br>\n",
    "2. Test the function with a sample directory structure."
   ]
  },
  {
   "cell_type": "code",
   "execution_count": 60,
   "id": "1b0de74a",
   "metadata": {},
   "outputs": [
    {
     "name": "stdout",
     "output_type": "stream",
     "text": [
      "Total directory size: 1400 KB\n"
     ]
    }
   ],
   "source": [
    "def calculate_directory_size(directory):\n",
    "    total_size = 0\n",
    "    for key, value in directory.items():\n",
    "        if isinstance(value, dict): \n",
    "            total_size += calculate_directory_size(value)\n",
    "        else: \n",
    "            total_size += value\n",
    "    return total_size\n",
    "\n",
    "# Sample directory structure\n",
    "directory_structure = {\n",
    "    \"file1.txt\": 200,\n",
    "    \"file2.txt\": 300,\n",
    "    \"subdir1\": {\n",
    "        \"file3.txt\": 400,\n",
    "        \"file4.txt\": 100\n",
    "    },\n",
    "    \"subdir2\": {\n",
    "        \"subsubdir1\": {\n",
    "            \"file5.txt\": 250\n",
    "        },\n",
    "        \"file6.txt\": 150\n",
    "    }\n",
    "}\n",
    "\n",
    "total_size = calculate_directory_size(directory_structure)\n",
    "print(f\"Total directory size: {total_size} KB\")\n"
   ]
  },
  {
   "cell_type": "markdown",
   "id": "0d7c0e6e",
   "metadata": {},
   "source": [
    "##### Dynamic Programminig"
   ]
  },
  {
   "cell_type": "markdown",
   "id": "8fe78685",
   "metadata": {},
   "source": [
    "Example:<br>\n",
    "Fibonacci Sequence: The Fibonacci sequence is defined as: <br>\n",
    "<br>\n",
    "F(0) = 0 <br>\n",
    "F(1) = 1<br>\n",
    "F(n) = F(n − 1) + F(n − 2) for n > 1<br>"
   ]
  },
  {
   "cell_type": "markdown",
   "id": "6080e7f3",
   "metadata": {},
   "source": [
    "##### Fibonacci Series with Memorization {Top - Down Approach}"
   ]
  },
  {
   "cell_type": "code",
   "execution_count": 61,
   "id": "00f81294",
   "metadata": {},
   "outputs": [],
   "source": [
    "def fibonacci(n, memo={}):\n",
    "    \"\"\"\n",
    "    Computes the nth Fibonacci number using memoization to optimize the recursive\n",
    "    solution.\n",
    "    This function uses memoization to store previously computed Fibonacci numbers,\n",
    "    reducing redundant calculations and improving performance.\n",
    "    Parameters:\n",
    "    n (int): The index in the Fibonacci sequence for which the value is to be computed.\n",
    "    Must be a non-negative integer.\n",
    "    memo (dict, optional): A dictionary used to store previously computed Fibonacci\n",
    "    values.\n",
    "\n",
    "    It is initialized as an empty dictionary by default and is used\n",
    "    during the recursive calls to avoid recalculating results.\n",
    "\n",
    "    Returns:\n",
    "    int: The nth Fibonacci number.\n",
    "    Example:\n",
    "    >>> fibonacci(5)\n",
    "    5\n",
    "    >>> fibonacci(10)\n",
    "    55\n",
    "    Time Complexity:\n",
    "    - The time complexity is O(n) because each Fibonacci number is computed only once.\n",
    "    Space Complexity:\n",
    "    - The space complexity is O(n) due to the memoization dictionary storing the results.\n",
    "    \"\"\"\n",
    "    if n in memo:\n",
    "        return memo[n]\n",
    "    if n <= 1:\n",
    "        return n\n",
    "    memo[n] = fibonacci(n - 1, memo) + fibonacci(n - 2, memo)\n",
    "    return memo[n]"
   ]
  },
  {
   "cell_type": "markdown",
   "id": "52792fb1",
   "metadata": {},
   "source": [
    "##### Fibonacci Sequence with Tabulation {Bottom - Up Approach}"
   ]
  },
  {
   "cell_type": "code",
   "execution_count": 62,
   "id": "3bc49bd0",
   "metadata": {},
   "outputs": [],
   "source": [
    "def fibonacci(n):\n",
    "    \"\"\"\n",
    "    Computes the nth Fibonacci number using dynamic programming to optimize the solution.\n",
    "    This function uses a bottom-up dynamic programming approach to calculate the nth\n",
    "    Fibonacci\n",
    "    number by iteratively building up an array of Fibonacci numbers up to n, thus\n",
    "    eliminating\n",
    "    redundant calculations and optimizing performance.\n",
    "    Parameters:\n",
    "    n (int): The index in the Fibonacci sequence for which the value is to be computed.\n",
    "    Must be a non-negative integer.\n",
    "    Returns:\n",
    "    int: The nth Fibonacci number.\n",
    "    Example:\n",
    "    >>> fibonacci(5)\n",
    "    5\n",
    "    >>> fibonacci(10)\n",
    "    55\n",
    "    Time Complexity:\n",
    "    - The time complexity is O(n), as the function iterates through the range 2 to n,\n",
    "    calculating\n",
    "    each Fibonacci number once.\n",
    "    Space Complexity:\n",
    "    - The space complexity is O(n), due to the array used to store the Fibonacci numbers\n",
    "    up to n.\n",
    "    \"\"\"\n",
    "    if n <= 1:\n",
    "        return n\n",
    "    dp = [0] * (n + 1)\n",
    "    dp[1] = 1\n",
    "    for i in range(2, n + 1):\n",
    "        dp[i] = dp[i - 1] + dp[i - 2]\n",
    "    return dp[n]"
   ]
  },
  {
   "cell_type": "markdown",
   "id": "a020922a",
   "metadata": {},
   "source": [
    "##### Coin Change Problem"
   ]
  },
  {
   "cell_type": "code",
   "execution_count": 93,
   "id": "c378063b",
   "metadata": {},
   "outputs": [],
   "source": [
    "def min_coins(coins, amount):\n",
    "    \"\"\"\n",
    "    Finds the minimum number of coins needed to make up a given amount using dynamic\n",
    "    programming.\n",
    "    This function solves the coin change problem by determining the fewest number of\n",
    "    coins from a given set of coin denominations that sum up to a target amount. The\n",
    "    solution uses dynamic programming(tabulation) to iteratively build up the minimum\n",
    "    number of coins required for each amount.\n",
    "    \n",
    "    Parameters:\n",
    "    coins (list of int): A list of coin denominations available for making change. Each\n",
    "    coin denomination is a positive integer.\n",
    "    amount (int): The target amount for which we need to find the minimum number of coins\n",
    "    . It must be a non-negative integer.\n",
    "    \n",
    "    Returns:\n",
    "    int: The minimum number of coins required to make the given amount.\n",
    "    If it is not possible to make the amount with the given coins, returns -1.\n",
    "    Example:\n",
    "    >>> min_coins([1, 2, 5], 11)\n",
    "    3\n",
    "    >>> min_coins([2], 3)\n",
    "    -1\n",
    "    \"\"\"\n",
    "    dp = [float('inf')] * (amount + 1)\n",
    "    dp[0] = 0\n",
    "    for coin in coins:\n",
    "        for i in range(coin, amount + 1):\n",
    "            dp[i] = min(dp[i], dp[i - coin] + 1)\n",
    "    return dp[amount] if dp[amount] != float('inf') else -1"
   ]
  },
  {
   "cell_type": "markdown",
   "id": "e171b27a",
   "metadata": {},
   "source": [
    "Task 2 - Longest Common Subsequence (LCS): <br>\n",
    "Scenario: Given two strings, find the length of their longest commonn subsequence (LCS). <br>\n",
    "This is useful in text comparison. <br>\n",
    "<br>\n",
    "Task: <br>\n",
    "1. Write a function longest_common_subsequence(s1, s2) that: <br>\n",
    "• Uses DP to find the length of the LCS of two strings s1 and s2. <br>\n",
    "2. Test with strings like \"abcde\" and \"ace\"; the LCS length should be 3 (\"ace\")."
   ]
  },
  {
   "cell_type": "code",
   "execution_count": 91,
   "id": "705053fd",
   "metadata": {},
   "outputs": [
    {
     "name": "stdout",
     "output_type": "stream",
     "text": [
      "3\n"
     ]
    }
   ],
   "source": [
    "def longest_common_subsequence(s1, s2):\n",
    "    '''\n",
    "    The function finds the longest common subsequent between the two strings passed through the parameters.\n",
    "    \n",
    "    Parameters:\n",
    "    s1 (String) = first string value\n",
    "    s2 (String) = second string value\n",
    "    \n",
    "    Returns\n",
    "    dp (list) = the count of the longest common subsequence between the two strings\n",
    "    '''\n",
    "    dp = [[0] * (len(s2) + 1) for _ in range(len(s1) + 1)]\n",
    "    \n",
    "    for i in range(1, len(s1) + 1):\n",
    "        for j in range(1, len(s2) + 1):\n",
    "            if s1[i - 1] == s2[j - 1]:  #if match is found, count increases by 1\n",
    "                dp[i][j] = dp[i - 1][j - 1] + 1\n",
    "            else:  # If match is not found, take the max value from the previous \n",
    "                dp[i][j] = max(dp[i - 1][j], dp[i][j - 1])\n",
    "    return dp[len(s1)][len(s2)]\n",
    "\n",
    "\n",
    "# Test the function with example strings\n",
    "print(longest_common_subsequence(\"abcde\", \"ace\"))  # Output should be 3"
   ]
  },
  {
   "cell_type": "markdown",
   "id": "8ae2d0ab",
   "metadata": {},
   "source": [
    "Task 3 - 0/1 Knapsack Problem: <br>\n",
    "Scenario: You have a list of items, each with a weight and a value. Given a weight capacity, maximize the total value of items you can carry without exceeding the weight capacity. <br>\n",
    "Task: <br>\n",
    "1. Write a function knapsack(weights, values, capacity) that: <br>\n",
    "• Uses DP to determine the maximum value that can be achieved within the given weight capacity.<br>\n",
    "<br>\n",
    "2. Test with weights [1, 3, 4, 5], values [1, 4, 5, 7], and capacity 7. The result should be 9."
   ]
  },
  {
   "cell_type": "code",
   "execution_count": 88,
   "id": "6e96230d",
   "metadata": {},
   "outputs": [
    {
     "name": "stdout",
     "output_type": "stream",
     "text": [
      "9\n"
     ]
    }
   ],
   "source": [
    "def knapsack(weights, values, capacity):\n",
    "    '''\n",
    "    In the knapsack problem, we need to pack a set of items, with given values and sizes \n",
    "    (such as weights or volumes), into a container with a maximum capacity.\n",
    "    \n",
    "    Parameters:\n",
    "    weights (List): list of weights\n",
    "    values (List): list of values\n",
    "    capacity (Integer): the total capacity of the given container\n",
    "    \n",
    "    Returns:\n",
    "    dp (List): returns the maximum value than can be achieved within the given weight\n",
    "    \n",
    "    '''\n",
    "    dp = [[0] * (capacity + 1) for _ in range(len(weights) + 1)]\n",
    "    for i in range(1, len(weights) + 1):\n",
    "        for w in range(1, capacity + 1):\n",
    "            if weights[i - 1] <= w:  \n",
    "                dp[i][w] = max(dp[i - 1][w], dp[i - 1][w - weights[i - 1]] + values[i - 1])\n",
    "            else:  \n",
    "                dp[i][w] = dp[i - 1][w]\n",
    "    \n",
    "    \n",
    "    return dp[len(weights)][capacity]\n",
    "\n",
    "print(knapsack([1, 3, 4, 5], [1, 4, 5, 7], 7))  # Output should be 9"
   ]
  }
 ],
 "metadata": {
  "kernelspec": {
   "display_name": "Python 3 (ipykernel)",
   "language": "python",
   "name": "python3"
  },
  "language_info": {
   "codemirror_mode": {
    "name": "ipython",
    "version": 3
   },
   "file_extension": ".py",
   "mimetype": "text/x-python",
   "name": "python",
   "nbconvert_exporter": "python",
   "pygments_lexer": "ipython3",
   "version": "3.11.5"
  }
 },
 "nbformat": 4,
 "nbformat_minor": 5
}
